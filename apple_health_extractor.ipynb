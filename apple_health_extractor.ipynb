{
 "cells": [
  {
   "cell_type": "markdown",
   "metadata": {},
   "source": [
    "# Apple Health Extractor"
   ]
  },
  {
   "cell_type": "markdown",
   "metadata": {},
   "source": [
    "This code will parse your Apple Health export data, create multiple CSV and do some simple data checks and data analysis. \n",
    "\n",
    "Enjoy! "
   ]
  },
  {
   "cell_type": "markdown",
   "metadata": {},
   "source": [
    "--------"
   ]
  },
  {
   "cell_type": "markdown",
   "metadata": {},
   "source": [
    "## Extract Data and Export to CSVs from Apple Health's Export.xml"
   ]
  },
  {
   "cell_type": "markdown",
   "metadata": {},
   "source": [
    "* Command Line Tool to Process apple health's export.xml file \n",
    "* Create multiple CSV files for each data type. \n",
    "* Original Source: https://github.com/tdda/applehealthdata\n",
    "* Based on the size of your Apple Health Data, this script may take several minutes to complete.\n",
    "\n",
    "**NOTE: Currently there are a few minror errors based on additional data from Apple Health that require some updates.** "
   ]
  },
  {
   "cell_type": "markdown",
   "metadata": {},
   "source": [
    "## Setup and Usage NOTE\n",
    "\n",
    "* Export your data from Apple Health App on your phone. \n",
    "* Unzip export.zip into this directory and rename to data. \n",
    "* Inside your directory there should be a directory and file here: /data/export.xml\n",
    "* Run inside project or in the command line."
   ]
  },
  {
   "cell_type": "code",
   "execution_count": 2,
   "metadata": {},
   "outputs": [
    {
     "ename": "Exception",
     "evalue": "File `'apple-health-data-parser.py'` not found.",
     "output_type": "error",
     "traceback": [
      "\u001b[0;31m---------------------------------------------------------------------------\u001b[0m",
      "\u001b[0;31mOSError\u001b[0m                                   Traceback (most recent call last)",
      "\u001b[0;32m~/opt/anaconda3/lib/python3.9/site-packages/IPython/core/magics/execution.py\u001b[0m in \u001b[0;36mrun\u001b[0;34m(self, parameter_s, runner, file_finder)\u001b[0m\n\u001b[1;32m    702\u001b[0m             \u001b[0mfpath\u001b[0m \u001b[0;34m=\u001b[0m \u001b[0marg_lst\u001b[0m\u001b[0;34m[\u001b[0m\u001b[0;36m0\u001b[0m\u001b[0;34m]\u001b[0m\u001b[0;34m\u001b[0m\u001b[0;34m\u001b[0m\u001b[0m\n\u001b[0;32m--> 703\u001b[0;31m             \u001b[0mfilename\u001b[0m \u001b[0;34m=\u001b[0m \u001b[0mfile_finder\u001b[0m\u001b[0;34m(\u001b[0m\u001b[0mfpath\u001b[0m\u001b[0;34m)\u001b[0m\u001b[0;34m\u001b[0m\u001b[0;34m\u001b[0m\u001b[0m\n\u001b[0m\u001b[1;32m    704\u001b[0m         \u001b[0;32mexcept\u001b[0m \u001b[0mIndexError\u001b[0m\u001b[0;34m:\u001b[0m\u001b[0;34m\u001b[0m\u001b[0;34m\u001b[0m\u001b[0m\n",
      "\u001b[0;32m~/opt/anaconda3/lib/python3.9/site-packages/IPython/utils/path.py\u001b[0m in \u001b[0;36mget_py_filename\u001b[0;34m(name, force_win32)\u001b[0m\n\u001b[1;32m    108\u001b[0m     \u001b[0;32melse\u001b[0m\u001b[0;34m:\u001b[0m\u001b[0;34m\u001b[0m\u001b[0;34m\u001b[0m\u001b[0m\n\u001b[0;32m--> 109\u001b[0;31m         \u001b[0;32mraise\u001b[0m \u001b[0mIOError\u001b[0m\u001b[0;34m(\u001b[0m\u001b[0;34m'File `%r` not found.'\u001b[0m \u001b[0;34m%\u001b[0m \u001b[0mname\u001b[0m\u001b[0;34m)\u001b[0m\u001b[0;34m\u001b[0m\u001b[0;34m\u001b[0m\u001b[0m\n\u001b[0m\u001b[1;32m    110\u001b[0m \u001b[0;34m\u001b[0m\u001b[0m\n",
      "\u001b[0;31mOSError\u001b[0m: File `'apple-health-data-parser.py'` not found.",
      "\nDuring handling of the above exception, another exception occurred:\n",
      "\u001b[0;31mException\u001b[0m                                 Traceback (most recent call last)",
      "\u001b[0;32m/var/folders/wq/lq8bwgbd2jqgg76zpkw4hhl80000gn/T/ipykernel_29962/2265449293.py\u001b[0m in \u001b[0;36m<module>\u001b[0;34m\u001b[0m\n\u001b[1;32m      1\u001b[0m \u001b[0;31m# %run -i 'apple-health-data-parser' 'export.xml'\u001b[0m\u001b[0;34m\u001b[0m\u001b[0;34m\u001b[0m\u001b[0m\n\u001b[0;32m----> 2\u001b[0;31m \u001b[0mget_ipython\u001b[0m\u001b[0;34m(\u001b[0m\u001b[0;34m)\u001b[0m\u001b[0;34m.\u001b[0m\u001b[0mrun_line_magic\u001b[0m\u001b[0;34m(\u001b[0m\u001b[0;34m'run'\u001b[0m\u001b[0;34m,\u001b[0m \u001b[0;34m\"-i 'apple-health-data-parser' 'data/export.xml'\"\u001b[0m\u001b[0;34m)\u001b[0m\u001b[0;34m\u001b[0m\u001b[0;34m\u001b[0m\u001b[0m\n\u001b[0m",
      "\u001b[0;32m~/opt/anaconda3/lib/python3.9/site-packages/IPython/core/interactiveshell.py\u001b[0m in \u001b[0;36mrun_line_magic\u001b[0;34m(self, magic_name, line, _stack_depth)\u001b[0m\n\u001b[1;32m   2349\u001b[0m                 \u001b[0mkwargs\u001b[0m\u001b[0;34m[\u001b[0m\u001b[0;34m'local_ns'\u001b[0m\u001b[0;34m]\u001b[0m \u001b[0;34m=\u001b[0m \u001b[0mself\u001b[0m\u001b[0;34m.\u001b[0m\u001b[0mget_local_scope\u001b[0m\u001b[0;34m(\u001b[0m\u001b[0mstack_depth\u001b[0m\u001b[0;34m)\u001b[0m\u001b[0;34m\u001b[0m\u001b[0;34m\u001b[0m\u001b[0m\n\u001b[1;32m   2350\u001b[0m             \u001b[0;32mwith\u001b[0m \u001b[0mself\u001b[0m\u001b[0;34m.\u001b[0m\u001b[0mbuiltin_trap\u001b[0m\u001b[0;34m:\u001b[0m\u001b[0;34m\u001b[0m\u001b[0;34m\u001b[0m\u001b[0m\n\u001b[0;32m-> 2351\u001b[0;31m                 \u001b[0mresult\u001b[0m \u001b[0;34m=\u001b[0m \u001b[0mfn\u001b[0m\u001b[0;34m(\u001b[0m\u001b[0;34m*\u001b[0m\u001b[0margs\u001b[0m\u001b[0;34m,\u001b[0m \u001b[0;34m**\u001b[0m\u001b[0mkwargs\u001b[0m\u001b[0;34m)\u001b[0m\u001b[0;34m\u001b[0m\u001b[0;34m\u001b[0m\u001b[0m\n\u001b[0m\u001b[1;32m   2352\u001b[0m             \u001b[0;32mreturn\u001b[0m \u001b[0mresult\u001b[0m\u001b[0;34m\u001b[0m\u001b[0;34m\u001b[0m\u001b[0m\n\u001b[1;32m   2353\u001b[0m \u001b[0;34m\u001b[0m\u001b[0m\n",
      "\u001b[0;32m~/opt/anaconda3/lib/python3.9/site-packages/decorator.py\u001b[0m in \u001b[0;36mfun\u001b[0;34m(*args, **kw)\u001b[0m\n\u001b[1;32m    230\u001b[0m             \u001b[0;32mif\u001b[0m \u001b[0;32mnot\u001b[0m \u001b[0mkwsyntax\u001b[0m\u001b[0;34m:\u001b[0m\u001b[0;34m\u001b[0m\u001b[0;34m\u001b[0m\u001b[0m\n\u001b[1;32m    231\u001b[0m                 \u001b[0margs\u001b[0m\u001b[0;34m,\u001b[0m \u001b[0mkw\u001b[0m \u001b[0;34m=\u001b[0m \u001b[0mfix\u001b[0m\u001b[0;34m(\u001b[0m\u001b[0margs\u001b[0m\u001b[0;34m,\u001b[0m \u001b[0mkw\u001b[0m\u001b[0;34m,\u001b[0m \u001b[0msig\u001b[0m\u001b[0;34m)\u001b[0m\u001b[0;34m\u001b[0m\u001b[0;34m\u001b[0m\u001b[0m\n\u001b[0;32m--> 232\u001b[0;31m             \u001b[0;32mreturn\u001b[0m \u001b[0mcaller\u001b[0m\u001b[0;34m(\u001b[0m\u001b[0mfunc\u001b[0m\u001b[0;34m,\u001b[0m \u001b[0;34m*\u001b[0m\u001b[0;34m(\u001b[0m\u001b[0mextras\u001b[0m \u001b[0;34m+\u001b[0m \u001b[0margs\u001b[0m\u001b[0;34m)\u001b[0m\u001b[0;34m,\u001b[0m \u001b[0;34m**\u001b[0m\u001b[0mkw\u001b[0m\u001b[0;34m)\u001b[0m\u001b[0;34m\u001b[0m\u001b[0;34m\u001b[0m\u001b[0m\n\u001b[0m\u001b[1;32m    233\u001b[0m     \u001b[0mfun\u001b[0m\u001b[0;34m.\u001b[0m\u001b[0m__name__\u001b[0m \u001b[0;34m=\u001b[0m \u001b[0mfunc\u001b[0m\u001b[0;34m.\u001b[0m\u001b[0m__name__\u001b[0m\u001b[0;34m\u001b[0m\u001b[0;34m\u001b[0m\u001b[0m\n\u001b[1;32m    234\u001b[0m     \u001b[0mfun\u001b[0m\u001b[0;34m.\u001b[0m\u001b[0m__doc__\u001b[0m \u001b[0;34m=\u001b[0m \u001b[0mfunc\u001b[0m\u001b[0;34m.\u001b[0m\u001b[0m__doc__\u001b[0m\u001b[0;34m\u001b[0m\u001b[0;34m\u001b[0m\u001b[0m\n",
      "\u001b[0;32m~/opt/anaconda3/lib/python3.9/site-packages/IPython/core/magic.py\u001b[0m in \u001b[0;36m<lambda>\u001b[0;34m(f, *a, **k)\u001b[0m\n\u001b[1;32m    185\u001b[0m     \u001b[0;31m# but it's overkill for just that one bit of state.\u001b[0m\u001b[0;34m\u001b[0m\u001b[0;34m\u001b[0m\u001b[0m\n\u001b[1;32m    186\u001b[0m     \u001b[0;32mdef\u001b[0m \u001b[0mmagic_deco\u001b[0m\u001b[0;34m(\u001b[0m\u001b[0marg\u001b[0m\u001b[0;34m)\u001b[0m\u001b[0;34m:\u001b[0m\u001b[0;34m\u001b[0m\u001b[0;34m\u001b[0m\u001b[0m\n\u001b[0;32m--> 187\u001b[0;31m         \u001b[0mcall\u001b[0m \u001b[0;34m=\u001b[0m \u001b[0;32mlambda\u001b[0m \u001b[0mf\u001b[0m\u001b[0;34m,\u001b[0m \u001b[0;34m*\u001b[0m\u001b[0ma\u001b[0m\u001b[0;34m,\u001b[0m \u001b[0;34m**\u001b[0m\u001b[0mk\u001b[0m\u001b[0;34m:\u001b[0m \u001b[0mf\u001b[0m\u001b[0;34m(\u001b[0m\u001b[0;34m*\u001b[0m\u001b[0ma\u001b[0m\u001b[0;34m,\u001b[0m \u001b[0;34m**\u001b[0m\u001b[0mk\u001b[0m\u001b[0;34m)\u001b[0m\u001b[0;34m\u001b[0m\u001b[0;34m\u001b[0m\u001b[0m\n\u001b[0m\u001b[1;32m    188\u001b[0m \u001b[0;34m\u001b[0m\u001b[0m\n\u001b[1;32m    189\u001b[0m         \u001b[0;32mif\u001b[0m \u001b[0mcallable\u001b[0m\u001b[0;34m(\u001b[0m\u001b[0marg\u001b[0m\u001b[0;34m)\u001b[0m\u001b[0;34m:\u001b[0m\u001b[0;34m\u001b[0m\u001b[0;34m\u001b[0m\u001b[0m\n",
      "\u001b[0;32m~/opt/anaconda3/lib/python3.9/site-packages/IPython/core/magics/execution.py\u001b[0m in \u001b[0;36mrun\u001b[0;34m(self, parameter_s, runner, file_finder)\u001b[0m\n\u001b[1;32m    712\u001b[0m             \u001b[0;32mif\u001b[0m \u001b[0mos\u001b[0m\u001b[0;34m.\u001b[0m\u001b[0mname\u001b[0m \u001b[0;34m==\u001b[0m \u001b[0;34m'nt'\u001b[0m \u001b[0;32mand\u001b[0m \u001b[0mre\u001b[0m\u001b[0;34m.\u001b[0m\u001b[0mmatch\u001b[0m\u001b[0;34m(\u001b[0m\u001b[0;34mr\"^'.*'$\"\u001b[0m\u001b[0;34m,\u001b[0m\u001b[0mfpath\u001b[0m\u001b[0;34m)\u001b[0m\u001b[0;34m:\u001b[0m\u001b[0;34m\u001b[0m\u001b[0;34m\u001b[0m\u001b[0m\n\u001b[1;32m    713\u001b[0m                 \u001b[0mwarn\u001b[0m\u001b[0;34m(\u001b[0m\u001b[0;34m'For Windows, use double quotes to wrap a filename: %run \"mypath\\\\myfile.py\"'\u001b[0m\u001b[0;34m)\u001b[0m\u001b[0;34m\u001b[0m\u001b[0;34m\u001b[0m\u001b[0m\n\u001b[0;32m--> 714\u001b[0;31m             \u001b[0;32mraise\u001b[0m \u001b[0mException\u001b[0m\u001b[0;34m(\u001b[0m\u001b[0mmsg\u001b[0m\u001b[0;34m)\u001b[0m\u001b[0;34m\u001b[0m\u001b[0;34m\u001b[0m\u001b[0m\n\u001b[0m\u001b[1;32m    715\u001b[0m         \u001b[0;32mexcept\u001b[0m \u001b[0mTypeError\u001b[0m\u001b[0;34m:\u001b[0m\u001b[0;34m\u001b[0m\u001b[0;34m\u001b[0m\u001b[0m\n\u001b[1;32m    716\u001b[0m             \u001b[0;32mif\u001b[0m \u001b[0mfpath\u001b[0m \u001b[0;32min\u001b[0m \u001b[0msys\u001b[0m\u001b[0;34m.\u001b[0m\u001b[0mmeta_path\u001b[0m\u001b[0;34m:\u001b[0m\u001b[0;34m\u001b[0m\u001b[0;34m\u001b[0m\u001b[0m\n",
      "\u001b[0;31mException\u001b[0m: File `'apple-health-data-parser.py'` not found."
     ]
    }
   ],
   "source": [
    "# %run -i 'apple-health-data-parser' 'export.xml' \n",
    "#%run -i 'apple-health-data-parser' 'data/export.xml' "
   ]
  },
  {
   "cell_type": "markdown",
   "metadata": {},
   "source": [
    "-----"
   ]
  },
  {
   "cell_type": "markdown",
   "metadata": {},
   "source": [
    "# Apple Health Data Check and Simple Data Analysis"
   ]
  },
  {
   "cell_type": "code",
   "execution_count": 1,
   "metadata": {},
   "outputs": [],
   "source": [
    "import numpy as np\n",
    "import pandas as pd\n",
    "import glob"
   ]
  },
  {
   "cell_type": "markdown",
   "metadata": {},
   "source": [
    "----"
   ]
  },
  {
   "cell_type": "markdown",
   "metadata": {},
   "source": [
    "# Weight"
   ]
  },
  {
   "cell_type": "code",
   "execution_count": 3,
   "metadata": {},
   "outputs": [],
   "source": [
    "weight = pd.read_csv(\"data/BodyMass.csv\")"
   ]
  },
  {
   "cell_type": "code",
   "execution_count": 4,
   "metadata": {},
   "outputs": [
    {
     "data": {
      "text/html": [
       "<div>\n",
       "<style scoped>\n",
       "    .dataframe tbody tr th:only-of-type {\n",
       "        vertical-align: middle;\n",
       "    }\n",
       "\n",
       "    .dataframe tbody tr th {\n",
       "        vertical-align: top;\n",
       "    }\n",
       "\n",
       "    .dataframe thead th {\n",
       "        text-align: right;\n",
       "    }\n",
       "</style>\n",
       "<table border=\"1\" class=\"dataframe\">\n",
       "  <thead>\n",
       "    <tr style=\"text-align: right;\">\n",
       "      <th></th>\n",
       "      <th>sourceName</th>\n",
       "      <th>sourceVersion</th>\n",
       "      <th>device</th>\n",
       "      <th>type</th>\n",
       "      <th>unit</th>\n",
       "      <th>creationDate</th>\n",
       "      <th>startDate</th>\n",
       "      <th>endDate</th>\n",
       "      <th>value</th>\n",
       "    </tr>\n",
       "  </thead>\n",
       "  <tbody>\n",
       "    <tr>\n",
       "      <th>0</th>\n",
       "      <td>Health</td>\n",
       "      <td>15.1</td>\n",
       "      <td>NaN</td>\n",
       "      <td>BodyMass</td>\n",
       "      <td>kg</td>\n",
       "      <td>2022-01-07 20:38:01 +0100</td>\n",
       "      <td>2022-01-07 20:37:00 +0100</td>\n",
       "      <td>2022-01-07 20:37:00 +0100</td>\n",
       "      <td>62.7</td>\n",
       "    </tr>\n",
       "    <tr>\n",
       "      <th>1</th>\n",
       "      <td>Health</td>\n",
       "      <td>15.1</td>\n",
       "      <td>NaN</td>\n",
       "      <td>BodyMass</td>\n",
       "      <td>kg</td>\n",
       "      <td>2022-01-07 20:38:12 +0100</td>\n",
       "      <td>2022-01-07 20:38:00 +0100</td>\n",
       "      <td>2022-01-07 20:38:00 +0100</td>\n",
       "      <td>62.7</td>\n",
       "    </tr>\n",
       "    <tr>\n",
       "      <th>2</th>\n",
       "      <td>Health</td>\n",
       "      <td>15.1</td>\n",
       "      <td>NaN</td>\n",
       "      <td>BodyMass</td>\n",
       "      <td>kg</td>\n",
       "      <td>2022-01-07 20:38:35 +0100</td>\n",
       "      <td>2021-06-07 23:00:00 +0100</td>\n",
       "      <td>2021-06-07 23:00:00 +0100</td>\n",
       "      <td>58.0</td>\n",
       "    </tr>\n",
       "    <tr>\n",
       "      <th>3</th>\n",
       "      <td>Apple Watch von Laura</td>\n",
       "      <td>7.6.1</td>\n",
       "      <td>NaN</td>\n",
       "      <td>BodyMass</td>\n",
       "      <td>kg</td>\n",
       "      <td>2021-11-13 19:59:28 +0100</td>\n",
       "      <td>2021-11-13 19:59:28 +0100</td>\n",
       "      <td>2021-11-13 19:59:28 +0100</td>\n",
       "      <td>61.0</td>\n",
       "    </tr>\n",
       "    <tr>\n",
       "      <th>4</th>\n",
       "      <td>Health</td>\n",
       "      <td>10.3.1</td>\n",
       "      <td>NaN</td>\n",
       "      <td>BodyMass</td>\n",
       "      <td>kg</td>\n",
       "      <td>2017-05-15 21:28:47 +0100</td>\n",
       "      <td>2017-05-15 21:28:47 +0100</td>\n",
       "      <td>2017-05-15 21:28:47 +0100</td>\n",
       "      <td>59.5</td>\n",
       "    </tr>\n",
       "    <tr>\n",
       "      <th>5</th>\n",
       "      <td>Health</td>\n",
       "      <td>15.2.1</td>\n",
       "      <td>NaN</td>\n",
       "      <td>BodyMass</td>\n",
       "      <td>kg</td>\n",
       "      <td>2022-01-31 20:59:21 +0100</td>\n",
       "      <td>2022-01-31 20:59:00 +0100</td>\n",
       "      <td>2022-01-31 20:59:00 +0100</td>\n",
       "      <td>62.5</td>\n",
       "    </tr>\n",
       "    <tr>\n",
       "      <th>6</th>\n",
       "      <td>Health</td>\n",
       "      <td>15.2.1</td>\n",
       "      <td>NaN</td>\n",
       "      <td>BodyMass</td>\n",
       "      <td>kg</td>\n",
       "      <td>2022-02-17 18:40:33 +0100</td>\n",
       "      <td>2022-02-17 18:40:00 +0100</td>\n",
       "      <td>2022-02-17 18:40:00 +0100</td>\n",
       "      <td>62.2</td>\n",
       "    </tr>\n",
       "  </tbody>\n",
       "</table>\n",
       "</div>"
      ],
      "text/plain": [
       "              sourceName sourceVersion  device      type unit  \\\n",
       "0                 Health          15.1     NaN  BodyMass   kg   \n",
       "1                 Health          15.1     NaN  BodyMass   kg   \n",
       "2                 Health          15.1     NaN  BodyMass   kg   \n",
       "3  Apple Watch von Laura         7.6.1     NaN  BodyMass   kg   \n",
       "4                 Health        10.3.1     NaN  BodyMass   kg   \n",
       "5                 Health        15.2.1     NaN  BodyMass   kg   \n",
       "6                 Health        15.2.1     NaN  BodyMass   kg   \n",
       "\n",
       "                creationDate                  startDate  \\\n",
       "0  2022-01-07 20:38:01 +0100  2022-01-07 20:37:00 +0100   \n",
       "1  2022-01-07 20:38:12 +0100  2022-01-07 20:38:00 +0100   \n",
       "2  2022-01-07 20:38:35 +0100  2021-06-07 23:00:00 +0100   \n",
       "3  2021-11-13 19:59:28 +0100  2021-11-13 19:59:28 +0100   \n",
       "4  2017-05-15 21:28:47 +0100  2017-05-15 21:28:47 +0100   \n",
       "5  2022-01-31 20:59:21 +0100  2022-01-31 20:59:00 +0100   \n",
       "6  2022-02-17 18:40:33 +0100  2022-02-17 18:40:00 +0100   \n",
       "\n",
       "                     endDate  value  \n",
       "0  2022-01-07 20:37:00 +0100   62.7  \n",
       "1  2022-01-07 20:38:00 +0100   62.7  \n",
       "2  2021-06-07 23:00:00 +0100   58.0  \n",
       "3  2021-11-13 19:59:28 +0100   61.0  \n",
       "4  2017-05-15 21:28:47 +0100   59.5  \n",
       "5  2022-01-31 20:59:00 +0100   62.5  \n",
       "6  2022-02-17 18:40:00 +0100   62.2  "
      ]
     },
     "execution_count": 4,
     "metadata": {},
     "output_type": "execute_result"
    }
   ],
   "source": [
    "weight"
   ]
  },
  {
   "cell_type": "code",
   "execution_count": 5,
   "metadata": {},
   "outputs": [
    {
     "data": {
      "text/html": [
       "<div>\n",
       "<style scoped>\n",
       "    .dataframe tbody tr th:only-of-type {\n",
       "        vertical-align: middle;\n",
       "    }\n",
       "\n",
       "    .dataframe tbody tr th {\n",
       "        vertical-align: top;\n",
       "    }\n",
       "\n",
       "    .dataframe thead th {\n",
       "        text-align: right;\n",
       "    }\n",
       "</style>\n",
       "<table border=\"1\" class=\"dataframe\">\n",
       "  <thead>\n",
       "    <tr style=\"text-align: right;\">\n",
       "      <th></th>\n",
       "      <th>device</th>\n",
       "      <th>value</th>\n",
       "    </tr>\n",
       "  </thead>\n",
       "  <tbody>\n",
       "    <tr>\n",
       "      <th>count</th>\n",
       "      <td>0.0</td>\n",
       "      <td>7.000000</td>\n",
       "    </tr>\n",
       "    <tr>\n",
       "      <th>mean</th>\n",
       "      <td>NaN</td>\n",
       "      <td>61.228571</td>\n",
       "    </tr>\n",
       "    <tr>\n",
       "      <th>std</th>\n",
       "      <td>NaN</td>\n",
       "      <td>1.841842</td>\n",
       "    </tr>\n",
       "    <tr>\n",
       "      <th>min</th>\n",
       "      <td>NaN</td>\n",
       "      <td>58.000000</td>\n",
       "    </tr>\n",
       "    <tr>\n",
       "      <th>25%</th>\n",
       "      <td>NaN</td>\n",
       "      <td>60.250000</td>\n",
       "    </tr>\n",
       "    <tr>\n",
       "      <th>50%</th>\n",
       "      <td>NaN</td>\n",
       "      <td>62.200000</td>\n",
       "    </tr>\n",
       "    <tr>\n",
       "      <th>75%</th>\n",
       "      <td>NaN</td>\n",
       "      <td>62.600000</td>\n",
       "    </tr>\n",
       "    <tr>\n",
       "      <th>max</th>\n",
       "      <td>NaN</td>\n",
       "      <td>62.700000</td>\n",
       "    </tr>\n",
       "  </tbody>\n",
       "</table>\n",
       "</div>"
      ],
      "text/plain": [
       "       device      value\n",
       "count     0.0   7.000000\n",
       "mean      NaN  61.228571\n",
       "std       NaN   1.841842\n",
       "min       NaN  58.000000\n",
       "25%       NaN  60.250000\n",
       "50%       NaN  62.200000\n",
       "75%       NaN  62.600000\n",
       "max       NaN  62.700000"
      ]
     },
     "execution_count": 5,
     "metadata": {},
     "output_type": "execute_result"
    }
   ],
   "source": [
    "weight.describe()"
   ]
  },
  {
   "cell_type": "markdown",
   "metadata": {},
   "source": [
    "----"
   ]
  },
  {
   "cell_type": "markdown",
   "metadata": {},
   "source": [
    "## Steps"
   ]
  },
  {
   "cell_type": "code",
   "execution_count": 10,
   "metadata": {},
   "outputs": [],
   "source": [
    "steps = pd.read_csv(\"data/StepCount.csv\")"
   ]
  },
  {
   "cell_type": "code",
   "execution_count": 11,
   "metadata": {},
   "outputs": [
    {
     "data": {
      "text/plain": [
       "82085"
      ]
     },
     "execution_count": 11,
     "metadata": {},
     "output_type": "execute_result"
    }
   ],
   "source": [
    "len(steps)"
   ]
  },
  {
   "cell_type": "code",
   "execution_count": 13,
   "metadata": {},
   "outputs": [
    {
     "data": {
      "text/plain": [
       "Index(['sourceName', 'sourceVersion', 'device', 'type', 'unit', 'creationDate',\n",
       "       'startDate', 'endDate', 'value'],\n",
       "      dtype='object')"
      ]
     },
     "execution_count": 13,
     "metadata": {},
     "output_type": "execute_result"
    }
   ],
   "source": [
    "steps.columns"
   ]
  },
  {
   "cell_type": "code",
   "execution_count": 9,
   "metadata": {},
   "outputs": [
    {
     "data": {
      "text/html": [
       "<div>\n",
       "<style>\n",
       "    .dataframe thead tr:only-child th {\n",
       "        text-align: right;\n",
       "    }\n",
       "\n",
       "    .dataframe thead th {\n",
       "        text-align: left;\n",
       "    }\n",
       "\n",
       "    .dataframe tbody tr th {\n",
       "        vertical-align: top;\n",
       "    }\n",
       "</style>\n",
       "<table border=\"1\" class=\"dataframe\">\n",
       "  <thead>\n",
       "    <tr style=\"text-align: right;\">\n",
       "      <th></th>\n",
       "      <th>value</th>\n",
       "    </tr>\n",
       "  </thead>\n",
       "  <tbody>\n",
       "    <tr>\n",
       "      <th>count</th>\n",
       "      <td>59129.000000</td>\n",
       "    </tr>\n",
       "    <tr>\n",
       "      <th>mean</th>\n",
       "      <td>133.012600</td>\n",
       "    </tr>\n",
       "    <tr>\n",
       "      <th>std</th>\n",
       "      <td>263.785141</td>\n",
       "    </tr>\n",
       "    <tr>\n",
       "      <th>min</th>\n",
       "      <td>1.000000</td>\n",
       "    </tr>\n",
       "    <tr>\n",
       "      <th>25%</th>\n",
       "      <td>20.000000</td>\n",
       "    </tr>\n",
       "    <tr>\n",
       "      <th>50%</th>\n",
       "      <td>57.000000</td>\n",
       "    </tr>\n",
       "    <tr>\n",
       "      <th>75%</th>\n",
       "      <td>118.000000</td>\n",
       "    </tr>\n",
       "    <tr>\n",
       "      <th>max</th>\n",
       "      <td>1612.000000</td>\n",
       "    </tr>\n",
       "  </tbody>\n",
       "</table>\n",
       "</div>"
      ],
      "text/plain": [
       "              value\n",
       "count  59129.000000\n",
       "mean     133.012600\n",
       "std      263.785141\n",
       "min        1.000000\n",
       "25%       20.000000\n",
       "50%       57.000000\n",
       "75%      118.000000\n",
       "max     1612.000000"
      ]
     },
     "execution_count": 9,
     "metadata": {},
     "output_type": "execute_result"
    }
   ],
   "source": [
    "steps.describe()"
   ]
  },
  {
   "cell_type": "code",
   "execution_count": 14,
   "metadata": {},
   "outputs": [
    {
     "data": {
      "text/html": [
       "<div>\n",
       "<style scoped>\n",
       "    .dataframe tbody tr th:only-of-type {\n",
       "        vertical-align: middle;\n",
       "    }\n",
       "\n",
       "    .dataframe tbody tr th {\n",
       "        vertical-align: top;\n",
       "    }\n",
       "\n",
       "    .dataframe thead th {\n",
       "        text-align: right;\n",
       "    }\n",
       "</style>\n",
       "<table border=\"1\" class=\"dataframe\">\n",
       "  <thead>\n",
       "    <tr style=\"text-align: right;\">\n",
       "      <th></th>\n",
       "      <th>sourceName</th>\n",
       "      <th>sourceVersion</th>\n",
       "      <th>device</th>\n",
       "      <th>type</th>\n",
       "      <th>unit</th>\n",
       "      <th>creationDate</th>\n",
       "      <th>startDate</th>\n",
       "      <th>endDate</th>\n",
       "      <th>value</th>\n",
       "    </tr>\n",
       "  </thead>\n",
       "  <tbody>\n",
       "    <tr>\n",
       "      <th>82080</th>\n",
       "      <td>Apple Watch von Laura</td>\n",
       "      <td>8.4.2</td>\n",
       "      <td>&lt;&lt;HKDevice: 0x282412710&gt;, name:Apple Watch, ma...</td>\n",
       "      <td>StepCount</td>\n",
       "      <td>count</td>\n",
       "      <td>2022-03-04 13:32:11 +0100</td>\n",
       "      <td>2022-03-04 13:28:59 +0100</td>\n",
       "      <td>2022-03-04 13:29:56 +0100</td>\n",
       "      <td>34</td>\n",
       "    </tr>\n",
       "    <tr>\n",
       "      <th>82081</th>\n",
       "      <td>Apple Watch von Laura</td>\n",
       "      <td>8.4.2</td>\n",
       "      <td>&lt;&lt;HKDevice: 0x282412710&gt;, name:Apple Watch, ma...</td>\n",
       "      <td>StepCount</td>\n",
       "      <td>count</td>\n",
       "      <td>2022-03-04 13:32:11 +0100</td>\n",
       "      <td>2022-03-04 13:29:58 +0100</td>\n",
       "      <td>2022-03-04 13:30:09 +0100</td>\n",
       "      <td>14</td>\n",
       "    </tr>\n",
       "    <tr>\n",
       "      <th>82082</th>\n",
       "      <td>Apple Watch von Laura</td>\n",
       "      <td>8.4.2</td>\n",
       "      <td>&lt;&lt;HKDevice: 0x282412710&gt;, name:Apple Watch, ma...</td>\n",
       "      <td>StepCount</td>\n",
       "      <td>count</td>\n",
       "      <td>2022-03-04 13:32:11 +0100</td>\n",
       "      <td>2022-03-04 13:31:20 +0100</td>\n",
       "      <td>2022-03-04 13:32:01 +0100</td>\n",
       "      <td>30</td>\n",
       "    </tr>\n",
       "    <tr>\n",
       "      <th>82083</th>\n",
       "      <td>Apple Watch von Laura</td>\n",
       "      <td>8.4.2</td>\n",
       "      <td>&lt;&lt;HKDevice: 0x282412710&gt;, name:Apple Watch, ma...</td>\n",
       "      <td>StepCount</td>\n",
       "      <td>count</td>\n",
       "      <td>2022-03-04 13:43:08 +0100</td>\n",
       "      <td>2022-03-04 13:35:35 +0100</td>\n",
       "      <td>2022-03-04 13:35:48 +0100</td>\n",
       "      <td>32</td>\n",
       "    </tr>\n",
       "    <tr>\n",
       "      <th>82084</th>\n",
       "      <td>Laura iPhone</td>\n",
       "      <td>15.3.1</td>\n",
       "      <td>&lt;&lt;HKDevice: 0x282412530&gt;, name:iPhone, manufac...</td>\n",
       "      <td>StepCount</td>\n",
       "      <td>count</td>\n",
       "      <td>2022-03-04 13:44:57 +0100</td>\n",
       "      <td>2022-03-04 13:33:54 +0100</td>\n",
       "      <td>2022-03-04 13:37:41 +0100</td>\n",
       "      <td>125</td>\n",
       "    </tr>\n",
       "  </tbody>\n",
       "</table>\n",
       "</div>"
      ],
      "text/plain": [
       "                  sourceName sourceVersion  \\\n",
       "82080  Apple Watch von Laura         8.4.2   \n",
       "82081  Apple Watch von Laura         8.4.2   \n",
       "82082  Apple Watch von Laura         8.4.2   \n",
       "82083  Apple Watch von Laura         8.4.2   \n",
       "82084           Laura iPhone        15.3.1   \n",
       "\n",
       "                                                  device       type   unit  \\\n",
       "82080  <<HKDevice: 0x282412710>, name:Apple Watch, ma...  StepCount  count   \n",
       "82081  <<HKDevice: 0x282412710>, name:Apple Watch, ma...  StepCount  count   \n",
       "82082  <<HKDevice: 0x282412710>, name:Apple Watch, ma...  StepCount  count   \n",
       "82083  <<HKDevice: 0x282412710>, name:Apple Watch, ma...  StepCount  count   \n",
       "82084  <<HKDevice: 0x282412530>, name:iPhone, manufac...  StepCount  count   \n",
       "\n",
       "                    creationDate                  startDate  \\\n",
       "82080  2022-03-04 13:32:11 +0100  2022-03-04 13:28:59 +0100   \n",
       "82081  2022-03-04 13:32:11 +0100  2022-03-04 13:29:58 +0100   \n",
       "82082  2022-03-04 13:32:11 +0100  2022-03-04 13:31:20 +0100   \n",
       "82083  2022-03-04 13:43:08 +0100  2022-03-04 13:35:35 +0100   \n",
       "82084  2022-03-04 13:44:57 +0100  2022-03-04 13:33:54 +0100   \n",
       "\n",
       "                         endDate  value  \n",
       "82080  2022-03-04 13:29:56 +0100     34  \n",
       "82081  2022-03-04 13:30:09 +0100     14  \n",
       "82082  2022-03-04 13:32:01 +0100     30  \n",
       "82083  2022-03-04 13:35:48 +0100     32  \n",
       "82084  2022-03-04 13:37:41 +0100    125  "
      ]
     },
     "execution_count": 14,
     "metadata": {},
     "output_type": "execute_result"
    }
   ],
   "source": [
    "steps.tail()"
   ]
  },
  {
   "cell_type": "code",
   "execution_count": 15,
   "metadata": {},
   "outputs": [
    {
     "data": {
      "text/plain": [
       "10375160"
      ]
     },
     "execution_count": 15,
     "metadata": {},
     "output_type": "execute_result"
    }
   ],
   "source": [
    "# total all-time steps\n",
    "steps.value.sum()"
   ]
  },
  {
   "cell_type": "code",
   "execution_count": 6,
   "metadata": {},
   "outputs": [],
   "source": [
    "#pip install pytz\n",
    "import pytz"
   ]
  },
  {
   "cell_type": "code",
   "execution_count": 7,
   "metadata": {},
   "outputs": [],
   "source": [
    "convert_tz = lambda x: x.to_pydatetime().replace(tzinfo=pytz.utc).astimezone(pytz.timezone('Europe/Zurich'))\n",
    "get_year = lambda x: convert_tz(x).year\n",
    "get_month = lambda x: '{}-{:02}'.format(convert_tz(x).year, convert_tz(x).month) #inefficient\n",
    "get_date = lambda x: '{}-{:02}-{:02}'.format(convert_tz(x).year, convert_tz(x).month, convert_tz(x).day) #inefficient\n",
    "get_day = lambda x: convert_tz(x).day\n",
    "get_hour = lambda x: convert_tz(x).hour\n",
    "get_day_of_week = lambda x: convert_tz(x).weekday()"
   ]
  },
  {
   "cell_type": "code",
   "execution_count": 8,
   "metadata": {},
   "outputs": [
    {
     "ename": "NameError",
     "evalue": "name 'steps' is not defined",
     "output_type": "error",
     "traceback": [
      "\u001b[0;31m---------------------------------------------------------------------------\u001b[0m",
      "\u001b[0;31mNameError\u001b[0m                                 Traceback (most recent call last)",
      "\u001b[0;32m/tmp/ipykernel_8783/2077110706.py\u001b[0m in \u001b[0;36m<module>\u001b[0;34m\u001b[0m\n\u001b[0;32m----> 1\u001b[0;31m \u001b[0msteps\u001b[0m\u001b[0;34m[\u001b[0m\u001b[0;34m'startDate'\u001b[0m\u001b[0;34m]\u001b[0m \u001b[0;34m=\u001b[0m \u001b[0mpd\u001b[0m\u001b[0;34m.\u001b[0m\u001b[0mto_datetime\u001b[0m\u001b[0;34m(\u001b[0m\u001b[0msteps\u001b[0m\u001b[0;34m[\u001b[0m\u001b[0;34m'startDate'\u001b[0m\u001b[0;34m]\u001b[0m\u001b[0;34m)\u001b[0m\u001b[0;34m\u001b[0m\u001b[0;34m\u001b[0m\u001b[0m\n\u001b[0m\u001b[1;32m      2\u001b[0m \u001b[0msteps\u001b[0m\u001b[0;34m[\u001b[0m\u001b[0;34m'year'\u001b[0m\u001b[0;34m]\u001b[0m \u001b[0;34m=\u001b[0m \u001b[0msteps\u001b[0m\u001b[0;34m[\u001b[0m\u001b[0;34m'startDate'\u001b[0m\u001b[0;34m]\u001b[0m\u001b[0;34m.\u001b[0m\u001b[0mmap\u001b[0m\u001b[0;34m(\u001b[0m\u001b[0mget_year\u001b[0m\u001b[0;34m)\u001b[0m\u001b[0;34m\u001b[0m\u001b[0;34m\u001b[0m\u001b[0m\n\u001b[1;32m      3\u001b[0m \u001b[0msteps\u001b[0m\u001b[0;34m[\u001b[0m\u001b[0;34m'month'\u001b[0m\u001b[0;34m]\u001b[0m \u001b[0;34m=\u001b[0m \u001b[0msteps\u001b[0m\u001b[0;34m[\u001b[0m\u001b[0;34m'startDate'\u001b[0m\u001b[0;34m]\u001b[0m\u001b[0;34m.\u001b[0m\u001b[0mmap\u001b[0m\u001b[0;34m(\u001b[0m\u001b[0mget_month\u001b[0m\u001b[0;34m)\u001b[0m\u001b[0;34m\u001b[0m\u001b[0;34m\u001b[0m\u001b[0m\n\u001b[1;32m      4\u001b[0m \u001b[0msteps\u001b[0m\u001b[0;34m[\u001b[0m\u001b[0;34m'date'\u001b[0m\u001b[0;34m]\u001b[0m \u001b[0;34m=\u001b[0m \u001b[0msteps\u001b[0m\u001b[0;34m[\u001b[0m\u001b[0;34m'startDate'\u001b[0m\u001b[0;34m]\u001b[0m\u001b[0;34m.\u001b[0m\u001b[0mmap\u001b[0m\u001b[0;34m(\u001b[0m\u001b[0mget_date\u001b[0m\u001b[0;34m)\u001b[0m\u001b[0;34m\u001b[0m\u001b[0;34m\u001b[0m\u001b[0m\n\u001b[1;32m      5\u001b[0m \u001b[0msteps\u001b[0m\u001b[0;34m[\u001b[0m\u001b[0;34m'day'\u001b[0m\u001b[0;34m]\u001b[0m \u001b[0;34m=\u001b[0m \u001b[0msteps\u001b[0m\u001b[0;34m[\u001b[0m\u001b[0;34m'startDate'\u001b[0m\u001b[0;34m]\u001b[0m\u001b[0;34m.\u001b[0m\u001b[0mmap\u001b[0m\u001b[0;34m(\u001b[0m\u001b[0mget_day\u001b[0m\u001b[0;34m)\u001b[0m\u001b[0;34m\u001b[0m\u001b[0;34m\u001b[0m\u001b[0m\n",
      "\u001b[0;31mNameError\u001b[0m: name 'steps' is not defined"
     ]
    }
   ],
   "source": [
    "steps['startDate'] = pd.to_datetime(steps['startDate'])\n",
    "steps['year'] = steps['startDate'].map(get_year)\n",
    "steps['month'] = steps['startDate'].map(get_month)\n",
    "steps['date'] = steps['startDate'].map(get_date)\n",
    "steps['day'] = steps['startDate'].map(get_day)\n",
    "steps['hour'] = steps['startDate'].map(get_hour)\n",
    "steps['dow'] = steps['startDate'].map(get_day_of_week)"
   ]
  },
  {
   "cell_type": "code",
   "execution_count": 28,
   "metadata": {},
   "outputs": [],
   "source": [
    "steps_by_date = steps.groupby([\"date\"])[\"value\"].sum().reset_index(name=\"Steps\")"
   ]
  },
  {
   "cell_type": "code",
   "execution_count": 32,
   "metadata": {},
   "outputs": [
    {
     "data": {
      "text/plain": [
       "date     4.369863\n",
       "Steps    4.369863\n",
       "dtype: float64"
      ]
     },
     "execution_count": 32,
     "metadata": {},
     "output_type": "execute_result"
    }
   ],
   "source": [
    "steps_by_date.count()/365"
   ]
  },
  {
   "cell_type": "markdown",
   "metadata": {},
   "source": [
    "-------"
   ]
  },
  {
   "cell_type": "markdown",
   "metadata": {},
   "source": [
    "## Stand Count"
   ]
  },
  {
   "cell_type": "code",
   "execution_count": 12,
   "metadata": {
    "collapsed": true
   },
   "outputs": [],
   "source": [
    "stand = pd.read_csv(\"data/AppleStandHour.csv\")"
   ]
  },
  {
   "cell_type": "code",
   "execution_count": 13,
   "metadata": {},
   "outputs": [
    {
     "data": {
      "text/plain": [
       "8806"
      ]
     },
     "execution_count": 13,
     "metadata": {},
     "output_type": "execute_result"
    }
   ],
   "source": [
    "len(stand)"
   ]
  },
  {
   "cell_type": "code",
   "execution_count": 14,
   "metadata": {},
   "outputs": [
    {
     "data": {
      "text/plain": [
       "Index(['sourceName', 'sourceVersion', 'device', 'type', 'unit', 'creationDate',\n",
       "       'startDate', 'endDate', 'value'],\n",
       "      dtype='object')"
      ]
     },
     "execution_count": 14,
     "metadata": {},
     "output_type": "execute_result"
    }
   ],
   "source": [
    "stand.columns"
   ]
  },
  {
   "cell_type": "code",
   "execution_count": 15,
   "metadata": {},
   "outputs": [
    {
     "data": {
      "text/html": [
       "<div>\n",
       "<style>\n",
       "    .dataframe thead tr:only-child th {\n",
       "        text-align: right;\n",
       "    }\n",
       "\n",
       "    .dataframe thead th {\n",
       "        text-align: left;\n",
       "    }\n",
       "\n",
       "    .dataframe tbody tr th {\n",
       "        vertical-align: top;\n",
       "    }\n",
       "</style>\n",
       "<table border=\"1\" class=\"dataframe\">\n",
       "  <thead>\n",
       "    <tr style=\"text-align: right;\">\n",
       "      <th></th>\n",
       "      <th>unit</th>\n",
       "    </tr>\n",
       "  </thead>\n",
       "  <tbody>\n",
       "    <tr>\n",
       "      <th>count</th>\n",
       "      <td>0.0</td>\n",
       "    </tr>\n",
       "    <tr>\n",
       "      <th>mean</th>\n",
       "      <td>NaN</td>\n",
       "    </tr>\n",
       "    <tr>\n",
       "      <th>std</th>\n",
       "      <td>NaN</td>\n",
       "    </tr>\n",
       "    <tr>\n",
       "      <th>min</th>\n",
       "      <td>NaN</td>\n",
       "    </tr>\n",
       "    <tr>\n",
       "      <th>25%</th>\n",
       "      <td>NaN</td>\n",
       "    </tr>\n",
       "    <tr>\n",
       "      <th>50%</th>\n",
       "      <td>NaN</td>\n",
       "    </tr>\n",
       "    <tr>\n",
       "      <th>75%</th>\n",
       "      <td>NaN</td>\n",
       "    </tr>\n",
       "    <tr>\n",
       "      <th>max</th>\n",
       "      <td>NaN</td>\n",
       "    </tr>\n",
       "  </tbody>\n",
       "</table>\n",
       "</div>"
      ],
      "text/plain": [
       "       unit\n",
       "count   0.0\n",
       "mean    NaN\n",
       "std     NaN\n",
       "min     NaN\n",
       "25%     NaN\n",
       "50%     NaN\n",
       "75%     NaN\n",
       "max     NaN"
      ]
     },
     "execution_count": 15,
     "metadata": {},
     "output_type": "execute_result"
    }
   ],
   "source": [
    "stand.describe()"
   ]
  },
  {
   "cell_type": "code",
   "execution_count": 16,
   "metadata": {},
   "outputs": [
    {
     "data": {
      "text/html": [
       "<div>\n",
       "<style>\n",
       "    .dataframe thead tr:only-child th {\n",
       "        text-align: right;\n",
       "    }\n",
       "\n",
       "    .dataframe thead th {\n",
       "        text-align: left;\n",
       "    }\n",
       "\n",
       "    .dataframe tbody tr th {\n",
       "        vertical-align: top;\n",
       "    }\n",
       "</style>\n",
       "<table border=\"1\" class=\"dataframe\">\n",
       "  <thead>\n",
       "    <tr style=\"text-align: right;\">\n",
       "      <th></th>\n",
       "      <th>sourceName</th>\n",
       "      <th>sourceVersion</th>\n",
       "      <th>device</th>\n",
       "      <th>type</th>\n",
       "      <th>unit</th>\n",
       "      <th>creationDate</th>\n",
       "      <th>startDate</th>\n",
       "      <th>endDate</th>\n",
       "      <th>value</th>\n",
       "    </tr>\n",
       "  </thead>\n",
       "  <tbody>\n",
       "    <tr>\n",
       "      <th>8801</th>\n",
       "      <td>Mark’s Apple Watch</td>\n",
       "      <td>4.3</td>\n",
       "      <td>&lt;&lt;HKDevice: 0x1c4686ef0&gt;, name:Apple Watch, ma...</td>\n",
       "      <td>AppleStandHour</td>\n",
       "      <td>NaN</td>\n",
       "      <td>2018-04-30 16:00:08 +0800</td>\n",
       "      <td>2018-04-30 15:00:00 +0800</td>\n",
       "      <td>2018-04-30 16:00:00 +0800</td>\n",
       "      <td>HKCategoryValueAppleStandHourIdle</td>\n",
       "    </tr>\n",
       "    <tr>\n",
       "      <th>8802</th>\n",
       "      <td>Mark’s Apple Watch</td>\n",
       "      <td>4.3</td>\n",
       "      <td>&lt;&lt;HKDevice: 0x1c4688bb0&gt;, name:Apple Watch, ma...</td>\n",
       "      <td>AppleStandHour</td>\n",
       "      <td>NaN</td>\n",
       "      <td>2018-04-30 17:03:20 +0800</td>\n",
       "      <td>2018-04-30 16:00:00 +0800</td>\n",
       "      <td>2018-04-30 17:00:00 +0800</td>\n",
       "      <td>HKCategoryValueAppleStandHourIdle</td>\n",
       "    </tr>\n",
       "    <tr>\n",
       "      <th>8803</th>\n",
       "      <td>Mark’s Apple Watch</td>\n",
       "      <td>4.3</td>\n",
       "      <td>&lt;&lt;HKDevice: 0x1c4685f00&gt;, name:Apple Watch, ma...</td>\n",
       "      <td>AppleStandHour</td>\n",
       "      <td>NaN</td>\n",
       "      <td>2018-04-30 17:59:51 +0800</td>\n",
       "      <td>2018-04-30 17:00:00 +0800</td>\n",
       "      <td>2018-04-30 18:00:00 +0800</td>\n",
       "      <td>HKCategoryValueAppleStandHourStood</td>\n",
       "    </tr>\n",
       "    <tr>\n",
       "      <th>8804</th>\n",
       "      <td>Mark’s Apple Watch</td>\n",
       "      <td>4.3</td>\n",
       "      <td>&lt;&lt;HKDevice: 0x1c4c942d0&gt;, name:Apple Watch, ma...</td>\n",
       "      <td>AppleStandHour</td>\n",
       "      <td>NaN</td>\n",
       "      <td>2018-04-30 18:00:52 +0800</td>\n",
       "      <td>2018-04-30 18:00:00 +0800</td>\n",
       "      <td>2018-04-30 19:00:00 +0800</td>\n",
       "      <td>HKCategoryValueAppleStandHourStood</td>\n",
       "    </tr>\n",
       "    <tr>\n",
       "      <th>8805</th>\n",
       "      <td>“马克\\的 iPhone\"</td>\n",
       "      <td>11.3</td>\n",
       "      <td>NaN</td>\n",
       "      <td>AppleStandHour</td>\n",
       "      <td>NaN</td>\n",
       "      <td>2018-04-30 18:52:26 +0800</td>\n",
       "      <td>2018-04-30 18:00:00 +0800</td>\n",
       "      <td>2018-04-30 19:00:00 +0800</td>\n",
       "      <td>HKCategoryValueAppleStandHourStood</td>\n",
       "    </tr>\n",
       "  </tbody>\n",
       "</table>\n",
       "</div>"
      ],
      "text/plain": [
       "              sourceName sourceVersion  \\\n",
       "8801  Mark’s Apple Watch           4.3   \n",
       "8802  Mark’s Apple Watch           4.3   \n",
       "8803  Mark’s Apple Watch           4.3   \n",
       "8804  Mark’s Apple Watch           4.3   \n",
       "8805       “马克\\的 iPhone\"          11.3   \n",
       "\n",
       "                                                 device            type  unit  \\\n",
       "8801  <<HKDevice: 0x1c4686ef0>, name:Apple Watch, ma...  AppleStandHour   NaN   \n",
       "8802  <<HKDevice: 0x1c4688bb0>, name:Apple Watch, ma...  AppleStandHour   NaN   \n",
       "8803  <<HKDevice: 0x1c4685f00>, name:Apple Watch, ma...  AppleStandHour   NaN   \n",
       "8804  <<HKDevice: 0x1c4c942d0>, name:Apple Watch, ma...  AppleStandHour   NaN   \n",
       "8805                                                NaN  AppleStandHour   NaN   \n",
       "\n",
       "                   creationDate                  startDate  \\\n",
       "8801  2018-04-30 16:00:08 +0800  2018-04-30 15:00:00 +0800   \n",
       "8802  2018-04-30 17:03:20 +0800  2018-04-30 16:00:00 +0800   \n",
       "8803  2018-04-30 17:59:51 +0800  2018-04-30 17:00:00 +0800   \n",
       "8804  2018-04-30 18:00:52 +0800  2018-04-30 18:00:00 +0800   \n",
       "8805  2018-04-30 18:52:26 +0800  2018-04-30 18:00:00 +0800   \n",
       "\n",
       "                        endDate                               value  \n",
       "8801  2018-04-30 16:00:00 +0800   HKCategoryValueAppleStandHourIdle  \n",
       "8802  2018-04-30 17:00:00 +0800   HKCategoryValueAppleStandHourIdle  \n",
       "8803  2018-04-30 18:00:00 +0800  HKCategoryValueAppleStandHourStood  \n",
       "8804  2018-04-30 19:00:00 +0800  HKCategoryValueAppleStandHourStood  \n",
       "8805  2018-04-30 19:00:00 +0800  HKCategoryValueAppleStandHourStood  "
      ]
     },
     "execution_count": 16,
     "metadata": {},
     "output_type": "execute_result"
    }
   ],
   "source": [
    "stand.tail()"
   ]
  },
  {
   "cell_type": "markdown",
   "metadata": {},
   "source": [
    "------"
   ]
  },
  {
   "cell_type": "markdown",
   "metadata": {},
   "source": [
    "## Resting Heart Rate (HR)"
   ]
  },
  {
   "cell_type": "code",
   "execution_count": 17,
   "metadata": {
    "collapsed": true
   },
   "outputs": [],
   "source": [
    "restingHR = pd.read_csv(\"data/RestingHeartRate.csv\")"
   ]
  },
  {
   "cell_type": "code",
   "execution_count": 18,
   "metadata": {},
   "outputs": [
    {
     "data": {
      "text/plain": [
       "300"
      ]
     },
     "execution_count": 18,
     "metadata": {},
     "output_type": "execute_result"
    }
   ],
   "source": [
    "len(restingHR)"
   ]
  },
  {
   "cell_type": "code",
   "execution_count": 19,
   "metadata": {},
   "outputs": [
    {
     "data": {
      "text/html": [
       "<div>\n",
       "<style>\n",
       "    .dataframe thead tr:only-child th {\n",
       "        text-align: right;\n",
       "    }\n",
       "\n",
       "    .dataframe thead th {\n",
       "        text-align: left;\n",
       "    }\n",
       "\n",
       "    .dataframe tbody tr th {\n",
       "        vertical-align: top;\n",
       "    }\n",
       "</style>\n",
       "<table border=\"1\" class=\"dataframe\">\n",
       "  <thead>\n",
       "    <tr style=\"text-align: right;\">\n",
       "      <th></th>\n",
       "      <th>device</th>\n",
       "      <th>value</th>\n",
       "    </tr>\n",
       "  </thead>\n",
       "  <tbody>\n",
       "    <tr>\n",
       "      <th>count</th>\n",
       "      <td>0.0</td>\n",
       "      <td>300.000000</td>\n",
       "    </tr>\n",
       "    <tr>\n",
       "      <th>mean</th>\n",
       "      <td>NaN</td>\n",
       "      <td>46.286667</td>\n",
       "    </tr>\n",
       "    <tr>\n",
       "      <th>std</th>\n",
       "      <td>NaN</td>\n",
       "      <td>4.017248</td>\n",
       "    </tr>\n",
       "    <tr>\n",
       "      <th>min</th>\n",
       "      <td>NaN</td>\n",
       "      <td>38.000000</td>\n",
       "    </tr>\n",
       "    <tr>\n",
       "      <th>25%</th>\n",
       "      <td>NaN</td>\n",
       "      <td>43.000000</td>\n",
       "    </tr>\n",
       "    <tr>\n",
       "      <th>50%</th>\n",
       "      <td>NaN</td>\n",
       "      <td>46.000000</td>\n",
       "    </tr>\n",
       "    <tr>\n",
       "      <th>75%</th>\n",
       "      <td>NaN</td>\n",
       "      <td>49.000000</td>\n",
       "    </tr>\n",
       "    <tr>\n",
       "      <th>max</th>\n",
       "      <td>NaN</td>\n",
       "      <td>60.000000</td>\n",
       "    </tr>\n",
       "  </tbody>\n",
       "</table>\n",
       "</div>"
      ],
      "text/plain": [
       "       device       value\n",
       "count     0.0  300.000000\n",
       "mean      NaN   46.286667\n",
       "std       NaN    4.017248\n",
       "min       NaN   38.000000\n",
       "25%       NaN   43.000000\n",
       "50%       NaN   46.000000\n",
       "75%       NaN   49.000000\n",
       "max       NaN   60.000000"
      ]
     },
     "execution_count": 19,
     "metadata": {},
     "output_type": "execute_result"
    }
   ],
   "source": [
    "restingHR.describe()"
   ]
  },
  {
   "cell_type": "markdown",
   "metadata": {},
   "source": [
    "---"
   ]
  },
  {
   "cell_type": "markdown",
   "metadata": {},
   "source": [
    "## Walking Heart Rate (HR) Average"
   ]
  },
  {
   "cell_type": "code",
   "execution_count": 20,
   "metadata": {
    "collapsed": true
   },
   "outputs": [],
   "source": [
    "walkingHR = pd.read_csv(\"data/WalkingHeartRateAverage.csv\")"
   ]
  },
  {
   "cell_type": "code",
   "execution_count": 21,
   "metadata": {},
   "outputs": [
    {
     "data": {
      "text/plain": [
       "185"
      ]
     },
     "execution_count": 21,
     "metadata": {},
     "output_type": "execute_result"
    }
   ],
   "source": [
    "len(walkingHR)"
   ]
  },
  {
   "cell_type": "code",
   "execution_count": 22,
   "metadata": {},
   "outputs": [
    {
     "data": {
      "text/html": [
       "<div>\n",
       "<style>\n",
       "    .dataframe thead tr:only-child th {\n",
       "        text-align: right;\n",
       "    }\n",
       "\n",
       "    .dataframe thead th {\n",
       "        text-align: left;\n",
       "    }\n",
       "\n",
       "    .dataframe tbody tr th {\n",
       "        vertical-align: top;\n",
       "    }\n",
       "</style>\n",
       "<table border=\"1\" class=\"dataframe\">\n",
       "  <thead>\n",
       "    <tr style=\"text-align: right;\">\n",
       "      <th></th>\n",
       "      <th>sourceVersion</th>\n",
       "      <th>device</th>\n",
       "      <th>value</th>\n",
       "    </tr>\n",
       "  </thead>\n",
       "  <tbody>\n",
       "    <tr>\n",
       "      <th>count</th>\n",
       "      <td>185.000000</td>\n",
       "      <td>0.0</td>\n",
       "      <td>185.000000</td>\n",
       "    </tr>\n",
       "    <tr>\n",
       "      <th>mean</th>\n",
       "      <td>4.092432</td>\n",
       "      <td>NaN</td>\n",
       "      <td>80.927027</td>\n",
       "    </tr>\n",
       "    <tr>\n",
       "      <th>std</th>\n",
       "      <td>0.072584</td>\n",
       "      <td>NaN</td>\n",
       "      <td>12.104564</td>\n",
       "    </tr>\n",
       "    <tr>\n",
       "      <th>min</th>\n",
       "      <td>4.000000</td>\n",
       "      <td>NaN</td>\n",
       "      <td>60.000000</td>\n",
       "    </tr>\n",
       "    <tr>\n",
       "      <th>25%</th>\n",
       "      <td>4.100000</td>\n",
       "      <td>NaN</td>\n",
       "      <td>73.000000</td>\n",
       "    </tr>\n",
       "    <tr>\n",
       "      <th>50%</th>\n",
       "      <td>4.100000</td>\n",
       "      <td>NaN</td>\n",
       "      <td>78.000000</td>\n",
       "    </tr>\n",
       "    <tr>\n",
       "      <th>75%</th>\n",
       "      <td>4.100000</td>\n",
       "      <td>NaN</td>\n",
       "      <td>86.000000</td>\n",
       "    </tr>\n",
       "    <tr>\n",
       "      <th>max</th>\n",
       "      <td>4.300000</td>\n",
       "      <td>NaN</td>\n",
       "      <td>135.000000</td>\n",
       "    </tr>\n",
       "  </tbody>\n",
       "</table>\n",
       "</div>"
      ],
      "text/plain": [
       "       sourceVersion  device       value\n",
       "count     185.000000     0.0  185.000000\n",
       "mean        4.092432     NaN   80.927027\n",
       "std         0.072584     NaN   12.104564\n",
       "min         4.000000     NaN   60.000000\n",
       "25%         4.100000     NaN   73.000000\n",
       "50%         4.100000     NaN   78.000000\n",
       "75%         4.100000     NaN   86.000000\n",
       "max         4.300000     NaN  135.000000"
      ]
     },
     "execution_count": 22,
     "metadata": {},
     "output_type": "execute_result"
    }
   ],
   "source": [
    "walkingHR.describe()"
   ]
  },
  {
   "cell_type": "markdown",
   "metadata": {},
   "source": [
    "---"
   ]
  },
  {
   "cell_type": "markdown",
   "metadata": {},
   "source": [
    "## Heart Rate Variability (HRV)"
   ]
  },
  {
   "cell_type": "code",
   "execution_count": 23,
   "metadata": {
    "collapsed": true
   },
   "outputs": [],
   "source": [
    "hrv = pd.read_csv(\"data/HeartRateVariabilitySDNN.csv\")"
   ]
  },
  {
   "cell_type": "code",
   "execution_count": 24,
   "metadata": {},
   "outputs": [
    {
     "data": {
      "text/plain": [
       "1216"
      ]
     },
     "execution_count": 24,
     "metadata": {},
     "output_type": "execute_result"
    }
   ],
   "source": [
    "len(hrv)"
   ]
  },
  {
   "cell_type": "code",
   "execution_count": 25,
   "metadata": {},
   "outputs": [
    {
     "data": {
      "text/plain": [
       "Index(['sourceName', 'sourceVersion', 'device', 'type', 'unit', 'creationDate',\n",
       "       'startDate', 'endDate', 'value'],\n",
       "      dtype='object')"
      ]
     },
     "execution_count": 25,
     "metadata": {},
     "output_type": "execute_result"
    }
   ],
   "source": [
    "hrv.columns"
   ]
  },
  {
   "cell_type": "code",
   "execution_count": 26,
   "metadata": {},
   "outputs": [
    {
     "data": {
      "text/html": [
       "<div>\n",
       "<style>\n",
       "    .dataframe thead tr:only-child th {\n",
       "        text-align: right;\n",
       "    }\n",
       "\n",
       "    .dataframe thead th {\n",
       "        text-align: left;\n",
       "    }\n",
       "\n",
       "    .dataframe tbody tr th {\n",
       "        vertical-align: top;\n",
       "    }\n",
       "</style>\n",
       "<table border=\"1\" class=\"dataframe\">\n",
       "  <thead>\n",
       "    <tr style=\"text-align: right;\">\n",
       "      <th></th>\n",
       "      <th>sourceVersion</th>\n",
       "      <th>value</th>\n",
       "    </tr>\n",
       "  </thead>\n",
       "  <tbody>\n",
       "    <tr>\n",
       "      <th>count</th>\n",
       "      <td>1216.000000</td>\n",
       "      <td>1216.000000</td>\n",
       "    </tr>\n",
       "    <tr>\n",
       "      <th>mean</th>\n",
       "      <td>4.100000</td>\n",
       "      <td>35.646432</td>\n",
       "    </tr>\n",
       "    <tr>\n",
       "      <th>std</th>\n",
       "      <td>0.065168</td>\n",
       "      <td>18.154448</td>\n",
       "    </tr>\n",
       "    <tr>\n",
       "      <th>min</th>\n",
       "      <td>4.000000</td>\n",
       "      <td>8.463160</td>\n",
       "    </tr>\n",
       "    <tr>\n",
       "      <th>25%</th>\n",
       "      <td>4.100000</td>\n",
       "      <td>23.143600</td>\n",
       "    </tr>\n",
       "    <tr>\n",
       "      <th>50%</th>\n",
       "      <td>4.100000</td>\n",
       "      <td>31.748000</td>\n",
       "    </tr>\n",
       "    <tr>\n",
       "      <th>75%</th>\n",
       "      <td>4.100000</td>\n",
       "      <td>43.296950</td>\n",
       "    </tr>\n",
       "    <tr>\n",
       "      <th>max</th>\n",
       "      <td>4.300000</td>\n",
       "      <td>178.671000</td>\n",
       "    </tr>\n",
       "  </tbody>\n",
       "</table>\n",
       "</div>"
      ],
      "text/plain": [
       "       sourceVersion        value\n",
       "count    1216.000000  1216.000000\n",
       "mean        4.100000    35.646432\n",
       "std         0.065168    18.154448\n",
       "min         4.000000     8.463160\n",
       "25%         4.100000    23.143600\n",
       "50%         4.100000    31.748000\n",
       "75%         4.100000    43.296950\n",
       "max         4.300000   178.671000"
      ]
     },
     "execution_count": 26,
     "metadata": {},
     "output_type": "execute_result"
    }
   ],
   "source": [
    "hrv.describe()"
   ]
  },
  {
   "cell_type": "code",
   "execution_count": 27,
   "metadata": {},
   "outputs": [
    {
     "data": {
      "text/html": [
       "<div>\n",
       "<style>\n",
       "    .dataframe thead tr:only-child th {\n",
       "        text-align: right;\n",
       "    }\n",
       "\n",
       "    .dataframe thead th {\n",
       "        text-align: left;\n",
       "    }\n",
       "\n",
       "    .dataframe tbody tr th {\n",
       "        vertical-align: top;\n",
       "    }\n",
       "</style>\n",
       "<table border=\"1\" class=\"dataframe\">\n",
       "  <thead>\n",
       "    <tr style=\"text-align: right;\">\n",
       "      <th></th>\n",
       "      <th>sourceName</th>\n",
       "      <th>sourceVersion</th>\n",
       "      <th>device</th>\n",
       "      <th>type</th>\n",
       "      <th>unit</th>\n",
       "      <th>creationDate</th>\n",
       "      <th>startDate</th>\n",
       "      <th>endDate</th>\n",
       "      <th>value</th>\n",
       "    </tr>\n",
       "  </thead>\n",
       "  <tbody>\n",
       "    <tr>\n",
       "      <th>1211</th>\n",
       "      <td>Mark’s Apple Watch</td>\n",
       "      <td>4.3</td>\n",
       "      <td>&lt;&lt;HKDevice: 0x1c0c8dc50&gt;, name:Apple Watch, ma...</td>\n",
       "      <td>HeartRateVariabilitySDNN</td>\n",
       "      <td>ms</td>\n",
       "      <td>2018-04-30 04:23:46 +0800</td>\n",
       "      <td>2018-04-30 04:22:40 +0800</td>\n",
       "      <td>2018-04-30 04:23:45 +0800</td>\n",
       "      <td>12.5996</td>\n",
       "    </tr>\n",
       "    <tr>\n",
       "      <th>1212</th>\n",
       "      <td>Mark’s Apple Watch</td>\n",
       "      <td>4.3</td>\n",
       "      <td>&lt;&lt;HKDevice: 0x1c0684920&gt;, name:Apple Watch, ma...</td>\n",
       "      <td>HeartRateVariabilitySDNN</td>\n",
       "      <td>ms</td>\n",
       "      <td>2018-04-30 06:23:48 +0800</td>\n",
       "      <td>2018-04-30 06:22:47 +0800</td>\n",
       "      <td>2018-04-30 06:23:48 +0800</td>\n",
       "      <td>32.7910</td>\n",
       "    </tr>\n",
       "    <tr>\n",
       "      <th>1213</th>\n",
       "      <td>Mark’s Apple Watch</td>\n",
       "      <td>4.3</td>\n",
       "      <td>&lt;&lt;HKDevice: 0x1c0c9a5e0&gt;, name:Apple Watch, ma...</td>\n",
       "      <td>HeartRateVariabilitySDNN</td>\n",
       "      <td>ms</td>\n",
       "      <td>2018-04-30 08:24:10 +0800</td>\n",
       "      <td>2018-04-30 08:23:05 +0800</td>\n",
       "      <td>2018-04-30 08:24:10 +0800</td>\n",
       "      <td>22.8008</td>\n",
       "    </tr>\n",
       "    <tr>\n",
       "      <th>1214</th>\n",
       "      <td>Mark’s Apple Watch</td>\n",
       "      <td>4.3</td>\n",
       "      <td>&lt;&lt;HKDevice: 0x1c06932e0&gt;, name:Apple Watch, ma...</td>\n",
       "      <td>HeartRateVariabilitySDNN</td>\n",
       "      <td>ms</td>\n",
       "      <td>2018-04-30 12:37:02 +0800</td>\n",
       "      <td>2018-04-30 12:35:57 +0800</td>\n",
       "      <td>2018-04-30 12:37:02 +0800</td>\n",
       "      <td>110.7040</td>\n",
       "    </tr>\n",
       "    <tr>\n",
       "      <th>1215</th>\n",
       "      <td>Mark’s Apple Watch</td>\n",
       "      <td>4.3</td>\n",
       "      <td>&lt;&lt;HKDevice: 0x1c0697c00&gt;, name:Apple Watch, ma...</td>\n",
       "      <td>HeartRateVariabilitySDNN</td>\n",
       "      <td>ms</td>\n",
       "      <td>2018-04-30 17:20:02 +0800</td>\n",
       "      <td>2018-04-30 17:18:57 +0800</td>\n",
       "      <td>2018-04-30 17:20:01 +0800</td>\n",
       "      <td>37.1214</td>\n",
       "    </tr>\n",
       "  </tbody>\n",
       "</table>\n",
       "</div>"
      ],
      "text/plain": [
       "              sourceName  sourceVersion  \\\n",
       "1211  Mark’s Apple Watch            4.3   \n",
       "1212  Mark’s Apple Watch            4.3   \n",
       "1213  Mark’s Apple Watch            4.3   \n",
       "1214  Mark’s Apple Watch            4.3   \n",
       "1215  Mark’s Apple Watch            4.3   \n",
       "\n",
       "                                                 device  \\\n",
       "1211  <<HKDevice: 0x1c0c8dc50>, name:Apple Watch, ma...   \n",
       "1212  <<HKDevice: 0x1c0684920>, name:Apple Watch, ma...   \n",
       "1213  <<HKDevice: 0x1c0c9a5e0>, name:Apple Watch, ma...   \n",
       "1214  <<HKDevice: 0x1c06932e0>, name:Apple Watch, ma...   \n",
       "1215  <<HKDevice: 0x1c0697c00>, name:Apple Watch, ma...   \n",
       "\n",
       "                          type unit               creationDate  \\\n",
       "1211  HeartRateVariabilitySDNN   ms  2018-04-30 04:23:46 +0800   \n",
       "1212  HeartRateVariabilitySDNN   ms  2018-04-30 06:23:48 +0800   \n",
       "1213  HeartRateVariabilitySDNN   ms  2018-04-30 08:24:10 +0800   \n",
       "1214  HeartRateVariabilitySDNN   ms  2018-04-30 12:37:02 +0800   \n",
       "1215  HeartRateVariabilitySDNN   ms  2018-04-30 17:20:02 +0800   \n",
       "\n",
       "                      startDate                    endDate     value  \n",
       "1211  2018-04-30 04:22:40 +0800  2018-04-30 04:23:45 +0800   12.5996  \n",
       "1212  2018-04-30 06:22:47 +0800  2018-04-30 06:23:48 +0800   32.7910  \n",
       "1213  2018-04-30 08:23:05 +0800  2018-04-30 08:24:10 +0800   22.8008  \n",
       "1214  2018-04-30 12:35:57 +0800  2018-04-30 12:37:02 +0800  110.7040  \n",
       "1215  2018-04-30 17:18:57 +0800  2018-04-30 17:20:01 +0800   37.1214  "
      ]
     },
     "execution_count": 27,
     "metadata": {},
     "output_type": "execute_result"
    }
   ],
   "source": [
    "hrv.tail()"
   ]
  },
  {
   "cell_type": "markdown",
   "metadata": {},
   "source": [
    "-------"
   ]
  },
  {
   "cell_type": "markdown",
   "metadata": {},
   "source": [
    "## VO2 Max"
   ]
  },
  {
   "cell_type": "code",
   "execution_count": 28,
   "metadata": {
    "collapsed": true
   },
   "outputs": [],
   "source": [
    "vo2max = pd.read_csv(\"data/VO2Max.csv\")"
   ]
  },
  {
   "cell_type": "code",
   "execution_count": 29,
   "metadata": {},
   "outputs": [
    {
     "data": {
      "text/plain": [
       "143"
      ]
     },
     "execution_count": 29,
     "metadata": {},
     "output_type": "execute_result"
    }
   ],
   "source": [
    "len(vo2max)"
   ]
  },
  {
   "cell_type": "code",
   "execution_count": 30,
   "metadata": {},
   "outputs": [
    {
     "data": {
      "text/html": [
       "<div>\n",
       "<style>\n",
       "    .dataframe thead tr:only-child th {\n",
       "        text-align: right;\n",
       "    }\n",
       "\n",
       "    .dataframe thead th {\n",
       "        text-align: left;\n",
       "    }\n",
       "\n",
       "    .dataframe tbody tr th {\n",
       "        vertical-align: top;\n",
       "    }\n",
       "</style>\n",
       "<table border=\"1\" class=\"dataframe\">\n",
       "  <thead>\n",
       "    <tr style=\"text-align: right;\">\n",
       "      <th></th>\n",
       "      <th>sourceVersion</th>\n",
       "      <th>device</th>\n",
       "      <th>value</th>\n",
       "    </tr>\n",
       "  </thead>\n",
       "  <tbody>\n",
       "    <tr>\n",
       "      <th>count</th>\n",
       "      <td>0.0</td>\n",
       "      <td>0.0</td>\n",
       "      <td>143.000000</td>\n",
       "    </tr>\n",
       "    <tr>\n",
       "      <th>mean</th>\n",
       "      <td>NaN</td>\n",
       "      <td>NaN</td>\n",
       "      <td>51.085681</td>\n",
       "    </tr>\n",
       "    <tr>\n",
       "      <th>std</th>\n",
       "      <td>NaN</td>\n",
       "      <td>NaN</td>\n",
       "      <td>1.900692</td>\n",
       "    </tr>\n",
       "    <tr>\n",
       "      <th>min</th>\n",
       "      <td>NaN</td>\n",
       "      <td>NaN</td>\n",
       "      <td>48.008400</td>\n",
       "    </tr>\n",
       "    <tr>\n",
       "      <th>25%</th>\n",
       "      <td>NaN</td>\n",
       "      <td>NaN</td>\n",
       "      <td>49.364600</td>\n",
       "    </tr>\n",
       "    <tr>\n",
       "      <th>50%</th>\n",
       "      <td>NaN</td>\n",
       "      <td>NaN</td>\n",
       "      <td>51.098600</td>\n",
       "    </tr>\n",
       "    <tr>\n",
       "      <th>75%</th>\n",
       "      <td>NaN</td>\n",
       "      <td>NaN</td>\n",
       "      <td>52.350500</td>\n",
       "    </tr>\n",
       "    <tr>\n",
       "      <th>max</th>\n",
       "      <td>NaN</td>\n",
       "      <td>NaN</td>\n",
       "      <td>55.097800</td>\n",
       "    </tr>\n",
       "  </tbody>\n",
       "</table>\n",
       "</div>"
      ],
      "text/plain": [
       "       sourceVersion  device       value\n",
       "count            0.0     0.0  143.000000\n",
       "mean             NaN     NaN   51.085681\n",
       "std              NaN     NaN    1.900692\n",
       "min              NaN     NaN   48.008400\n",
       "25%              NaN     NaN   49.364600\n",
       "50%              NaN     NaN   51.098600\n",
       "75%              NaN     NaN   52.350500\n",
       "max              NaN     NaN   55.097800"
      ]
     },
     "execution_count": 30,
     "metadata": {},
     "output_type": "execute_result"
    }
   ],
   "source": [
    "vo2max.describe()"
   ]
  },
  {
   "cell_type": "markdown",
   "metadata": {},
   "source": [
    "----"
   ]
  },
  {
   "cell_type": "markdown",
   "metadata": {},
   "source": [
    "## Blood Pressure"
   ]
  },
  {
   "cell_type": "code",
   "execution_count": 31,
   "metadata": {
    "collapsed": true
   },
   "outputs": [],
   "source": [
    "diastolic = pd.read_csv(\"data/BloodPressureDiastolic.csv\")\n",
    "systolic = pd.read_csv(\"data/BloodPressureSystolic.csv\")"
   ]
  },
  {
   "cell_type": "code",
   "execution_count": 32,
   "metadata": {},
   "outputs": [
    {
     "data": {
      "text/html": [
       "<div>\n",
       "<style>\n",
       "    .dataframe thead tr:only-child th {\n",
       "        text-align: right;\n",
       "    }\n",
       "\n",
       "    .dataframe thead th {\n",
       "        text-align: left;\n",
       "    }\n",
       "\n",
       "    .dataframe tbody tr th {\n",
       "        vertical-align: top;\n",
       "    }\n",
       "</style>\n",
       "<table border=\"1\" class=\"dataframe\">\n",
       "  <thead>\n",
       "    <tr style=\"text-align: right;\">\n",
       "      <th></th>\n",
       "      <th>device</th>\n",
       "      <th>value</th>\n",
       "    </tr>\n",
       "  </thead>\n",
       "  <tbody>\n",
       "    <tr>\n",
       "      <th>count</th>\n",
       "      <td>0.0</td>\n",
       "      <td>29.000000</td>\n",
       "    </tr>\n",
       "    <tr>\n",
       "      <th>mean</th>\n",
       "      <td>NaN</td>\n",
       "      <td>65.586207</td>\n",
       "    </tr>\n",
       "    <tr>\n",
       "      <th>std</th>\n",
       "      <td>NaN</td>\n",
       "      <td>5.081600</td>\n",
       "    </tr>\n",
       "    <tr>\n",
       "      <th>min</th>\n",
       "      <td>NaN</td>\n",
       "      <td>55.000000</td>\n",
       "    </tr>\n",
       "    <tr>\n",
       "      <th>25%</th>\n",
       "      <td>NaN</td>\n",
       "      <td>63.000000</td>\n",
       "    </tr>\n",
       "    <tr>\n",
       "      <th>50%</th>\n",
       "      <td>NaN</td>\n",
       "      <td>67.000000</td>\n",
       "    </tr>\n",
       "    <tr>\n",
       "      <th>75%</th>\n",
       "      <td>NaN</td>\n",
       "      <td>69.000000</td>\n",
       "    </tr>\n",
       "    <tr>\n",
       "      <th>max</th>\n",
       "      <td>NaN</td>\n",
       "      <td>76.000000</td>\n",
       "    </tr>\n",
       "  </tbody>\n",
       "</table>\n",
       "</div>"
      ],
      "text/plain": [
       "       device      value\n",
       "count     0.0  29.000000\n",
       "mean      NaN  65.586207\n",
       "std       NaN   5.081600\n",
       "min       NaN  55.000000\n",
       "25%       NaN  63.000000\n",
       "50%       NaN  67.000000\n",
       "75%       NaN  69.000000\n",
       "max       NaN  76.000000"
      ]
     },
     "execution_count": 32,
     "metadata": {},
     "output_type": "execute_result"
    }
   ],
   "source": [
    "diastolic.describe()"
   ]
  },
  {
   "cell_type": "code",
   "execution_count": 33,
   "metadata": {},
   "outputs": [
    {
     "data": {
      "text/html": [
       "<div>\n",
       "<style>\n",
       "    .dataframe thead tr:only-child th {\n",
       "        text-align: right;\n",
       "    }\n",
       "\n",
       "    .dataframe thead th {\n",
       "        text-align: left;\n",
       "    }\n",
       "\n",
       "    .dataframe tbody tr th {\n",
       "        vertical-align: top;\n",
       "    }\n",
       "</style>\n",
       "<table border=\"1\" class=\"dataframe\">\n",
       "  <thead>\n",
       "    <tr style=\"text-align: right;\">\n",
       "      <th></th>\n",
       "      <th>device</th>\n",
       "      <th>value</th>\n",
       "    </tr>\n",
       "  </thead>\n",
       "  <tbody>\n",
       "    <tr>\n",
       "      <th>count</th>\n",
       "      <td>0.0</td>\n",
       "      <td>29.000000</td>\n",
       "    </tr>\n",
       "    <tr>\n",
       "      <th>mean</th>\n",
       "      <td>NaN</td>\n",
       "      <td>113.206897</td>\n",
       "    </tr>\n",
       "    <tr>\n",
       "      <th>std</th>\n",
       "      <td>NaN</td>\n",
       "      <td>8.973689</td>\n",
       "    </tr>\n",
       "    <tr>\n",
       "      <th>min</th>\n",
       "      <td>NaN</td>\n",
       "      <td>95.000000</td>\n",
       "    </tr>\n",
       "    <tr>\n",
       "      <th>25%</th>\n",
       "      <td>NaN</td>\n",
       "      <td>106.000000</td>\n",
       "    </tr>\n",
       "    <tr>\n",
       "      <th>50%</th>\n",
       "      <td>NaN</td>\n",
       "      <td>112.000000</td>\n",
       "    </tr>\n",
       "    <tr>\n",
       "      <th>75%</th>\n",
       "      <td>NaN</td>\n",
       "      <td>122.000000</td>\n",
       "    </tr>\n",
       "    <tr>\n",
       "      <th>max</th>\n",
       "      <td>NaN</td>\n",
       "      <td>128.000000</td>\n",
       "    </tr>\n",
       "  </tbody>\n",
       "</table>\n",
       "</div>"
      ],
      "text/plain": [
       "       device       value\n",
       "count     0.0   29.000000\n",
       "mean      NaN  113.206897\n",
       "std       NaN    8.973689\n",
       "min       NaN   95.000000\n",
       "25%       NaN  106.000000\n",
       "50%       NaN  112.000000\n",
       "75%       NaN  122.000000\n",
       "max       NaN  128.000000"
      ]
     },
     "execution_count": 33,
     "metadata": {},
     "output_type": "execute_result"
    }
   ],
   "source": [
    "systolic.describe()"
   ]
  },
  {
   "cell_type": "markdown",
   "metadata": {},
   "source": [
    "------"
   ]
  },
  {
   "cell_type": "markdown",
   "metadata": {},
   "source": [
    "## Sleep"
   ]
  },
  {
   "cell_type": "code",
   "execution_count": 9,
   "metadata": {},
   "outputs": [],
   "source": [
    "sleep = pd.read_csv(\"data/SleepAnalysis.csv\")"
   ]
  },
  {
   "cell_type": "code",
   "execution_count": 10,
   "metadata": {
    "scrolled": true
   },
   "outputs": [
    {
     "data": {
      "text/html": [
       "<div>\n",
       "<style scoped>\n",
       "    .dataframe tbody tr th:only-of-type {\n",
       "        vertical-align: middle;\n",
       "    }\n",
       "\n",
       "    .dataframe tbody tr th {\n",
       "        vertical-align: top;\n",
       "    }\n",
       "\n",
       "    .dataframe thead th {\n",
       "        text-align: right;\n",
       "    }\n",
       "</style>\n",
       "<table border=\"1\" class=\"dataframe\">\n",
       "  <thead>\n",
       "    <tr style=\"text-align: right;\">\n",
       "      <th></th>\n",
       "      <th>sourceName</th>\n",
       "      <th>sourceVersion</th>\n",
       "      <th>device</th>\n",
       "      <th>type</th>\n",
       "      <th>unit</th>\n",
       "      <th>creationDate</th>\n",
       "      <th>startDate</th>\n",
       "      <th>endDate</th>\n",
       "      <th>value</th>\n",
       "    </tr>\n",
       "  </thead>\n",
       "  <tbody>\n",
       "    <tr>\n",
       "      <th>723</th>\n",
       "      <td>AutoSleep</td>\n",
       "      <td>6.7.40</td>\n",
       "      <td>NaN</td>\n",
       "      <td>SleepAnalysis</td>\n",
       "      <td>NaN</td>\n",
       "      <td>2022-03-04 09:27:42 +0100</td>\n",
       "      <td>2022-03-04 01:13:00 +0100</td>\n",
       "      <td>2022-03-04 03:44:00 +0100</td>\n",
       "      <td>HKCategoryValueSleepAnalysisAsleep</td>\n",
       "    </tr>\n",
       "    <tr>\n",
       "      <th>724</th>\n",
       "      <td>AutoSleep</td>\n",
       "      <td>6.7.40</td>\n",
       "      <td>NaN</td>\n",
       "      <td>SleepAnalysis</td>\n",
       "      <td>NaN</td>\n",
       "      <td>2022-03-04 09:27:42 +0100</td>\n",
       "      <td>2022-03-04 04:08:00 +0100</td>\n",
       "      <td>2022-03-04 06:44:00 +0100</td>\n",
       "      <td>HKCategoryValueSleepAnalysisAsleep</td>\n",
       "    </tr>\n",
       "    <tr>\n",
       "      <th>725</th>\n",
       "      <td>AutoSleep</td>\n",
       "      <td>6.7.40</td>\n",
       "      <td>NaN</td>\n",
       "      <td>SleepAnalysis</td>\n",
       "      <td>NaN</td>\n",
       "      <td>2022-03-04 09:27:42 +0100</td>\n",
       "      <td>2022-03-04 06:58:00 +0100</td>\n",
       "      <td>2022-03-04 08:17:00 +0100</td>\n",
       "      <td>HKCategoryValueSleepAnalysisAsleep</td>\n",
       "    </tr>\n",
       "    <tr>\n",
       "      <th>726</th>\n",
       "      <td>AutoSleep</td>\n",
       "      <td>6.7.40</td>\n",
       "      <td>NaN</td>\n",
       "      <td>SleepAnalysis</td>\n",
       "      <td>NaN</td>\n",
       "      <td>2022-03-04 09:27:42 +0100</td>\n",
       "      <td>2022-03-03 22:45:00 +0100</td>\n",
       "      <td>2022-03-04 09:14:00 +0100</td>\n",
       "      <td>HKCategoryValueSleepAnalysisInBed</td>\n",
       "    </tr>\n",
       "    <tr>\n",
       "      <th>727</th>\n",
       "      <td>AutoSleep</td>\n",
       "      <td>6.7.40</td>\n",
       "      <td>NaN</td>\n",
       "      <td>SleepAnalysis</td>\n",
       "      <td>NaN</td>\n",
       "      <td>2022-03-04 09:27:42 +0100</td>\n",
       "      <td>2022-03-04 08:30:00 +0100</td>\n",
       "      <td>2022-03-04 09:14:00 +0100</td>\n",
       "      <td>HKCategoryValueSleepAnalysisAsleep</td>\n",
       "    </tr>\n",
       "  </tbody>\n",
       "</table>\n",
       "</div>"
      ],
      "text/plain": [
       "    sourceName sourceVersion device           type  unit  \\\n",
       "723  AutoSleep        6.7.40    NaN  SleepAnalysis   NaN   \n",
       "724  AutoSleep        6.7.40    NaN  SleepAnalysis   NaN   \n",
       "725  AutoSleep        6.7.40    NaN  SleepAnalysis   NaN   \n",
       "726  AutoSleep        6.7.40    NaN  SleepAnalysis   NaN   \n",
       "727  AutoSleep        6.7.40    NaN  SleepAnalysis   NaN   \n",
       "\n",
       "                  creationDate                  startDate  \\\n",
       "723  2022-03-04 09:27:42 +0100  2022-03-04 01:13:00 +0100   \n",
       "724  2022-03-04 09:27:42 +0100  2022-03-04 04:08:00 +0100   \n",
       "725  2022-03-04 09:27:42 +0100  2022-03-04 06:58:00 +0100   \n",
       "726  2022-03-04 09:27:42 +0100  2022-03-03 22:45:00 +0100   \n",
       "727  2022-03-04 09:27:42 +0100  2022-03-04 08:30:00 +0100   \n",
       "\n",
       "                       endDate                               value  \n",
       "723  2022-03-04 03:44:00 +0100  HKCategoryValueSleepAnalysisAsleep  \n",
       "724  2022-03-04 06:44:00 +0100  HKCategoryValueSleepAnalysisAsleep  \n",
       "725  2022-03-04 08:17:00 +0100  HKCategoryValueSleepAnalysisAsleep  \n",
       "726  2022-03-04 09:14:00 +0100   HKCategoryValueSleepAnalysisInBed  \n",
       "727  2022-03-04 09:14:00 +0100  HKCategoryValueSleepAnalysisAsleep  "
      ]
     },
     "execution_count": 10,
     "metadata": {},
     "output_type": "execute_result"
    }
   ],
   "source": [
    "sleep.tail()"
   ]
  },
  {
   "cell_type": "code",
   "execution_count": 11,
   "metadata": {},
   "outputs": [
    {
     "data": {
      "text/plain": [
       "array(['HKCategoryValueSleepAnalysisInBed',\n",
       "       'HKCategoryValueSleepAnalysisAsleep'], dtype=object)"
      ]
     },
     "execution_count": 11,
     "metadata": {},
     "output_type": "execute_result"
    }
   ],
   "source": [
    "sleep[\"value\"].unique()"
   ]
  },
  {
   "cell_type": "code",
   "execution_count": 35,
   "metadata": {},
   "outputs": [
    {
     "data": {
      "text/html": [
       "<div>\n",
       "<style scoped>\n",
       "    .dataframe tbody tr th:only-of-type {\n",
       "        vertical-align: middle;\n",
       "    }\n",
       "\n",
       "    .dataframe tbody tr th {\n",
       "        vertical-align: top;\n",
       "    }\n",
       "\n",
       "    .dataframe thead th {\n",
       "        text-align: right;\n",
       "    }\n",
       "</style>\n",
       "<table border=\"1\" class=\"dataframe\">\n",
       "  <thead>\n",
       "    <tr style=\"text-align: right;\">\n",
       "      <th></th>\n",
       "      <th>unit</th>\n",
       "    </tr>\n",
       "  </thead>\n",
       "  <tbody>\n",
       "    <tr>\n",
       "      <th>count</th>\n",
       "      <td>0.0</td>\n",
       "    </tr>\n",
       "    <tr>\n",
       "      <th>mean</th>\n",
       "      <td>NaN</td>\n",
       "    </tr>\n",
       "    <tr>\n",
       "      <th>std</th>\n",
       "      <td>NaN</td>\n",
       "    </tr>\n",
       "    <tr>\n",
       "      <th>min</th>\n",
       "      <td>NaN</td>\n",
       "    </tr>\n",
       "    <tr>\n",
       "      <th>25%</th>\n",
       "      <td>NaN</td>\n",
       "    </tr>\n",
       "    <tr>\n",
       "      <th>50%</th>\n",
       "      <td>NaN</td>\n",
       "    </tr>\n",
       "    <tr>\n",
       "      <th>75%</th>\n",
       "      <td>NaN</td>\n",
       "    </tr>\n",
       "    <tr>\n",
       "      <th>max</th>\n",
       "      <td>NaN</td>\n",
       "    </tr>\n",
       "  </tbody>\n",
       "</table>\n",
       "</div>"
      ],
      "text/plain": [
       "       unit\n",
       "count   0.0\n",
       "mean    NaN\n",
       "std     NaN\n",
       "min     NaN\n",
       "25%     NaN\n",
       "50%     NaN\n",
       "75%     NaN\n",
       "max     NaN"
      ]
     },
     "execution_count": 35,
     "metadata": {},
     "output_type": "execute_result"
    }
   ],
   "source": []
  },
  {
   "cell_type": "code",
   "execution_count": 28,
   "metadata": {},
   "outputs": [],
   "source": [
    "#for col in ['creationDate', 'startDate', 'endDate']:\n",
    " #   data[col] = pd.to_datetime(data[col])\n",
    "\n",
    "for col in ['creationDate', 'startDate', 'endDate']:\n",
    "    sleep[col] = pd.to_datetime(sleep[col])\n"
   ]
  },
  {
   "cell_type": "code",
   "execution_count": 25,
   "metadata": {},
   "outputs": [
    {
     "data": {
      "text/plain": [
       "0      SleepAnalysis\n",
       "1      SleepAnalysis\n",
       "2      SleepAnalysis\n",
       "3      SleepAnalysis\n",
       "4      SleepAnalysis\n",
       "           ...      \n",
       "723    SleepAnalysis\n",
       "724    SleepAnalysis\n",
       "725    SleepAnalysis\n",
       "726    SleepAnalysis\n",
       "727    SleepAnalysis\n",
       "Name: type, Length: 728, dtype: object"
      ]
     },
     "execution_count": 25,
     "metadata": {},
     "output_type": "execute_result"
    }
   ],
   "source": [
    "#sleep['type'] = sleep['type'].str.replace('HKCategoryTypeIdentifier', '')"
   ]
  },
  {
   "cell_type": "code",
   "execution_count": 31,
   "metadata": {},
   "outputs": [
    {
     "data": {
      "text/html": [
       "<div>\n",
       "<style scoped>\n",
       "    .dataframe tbody tr th:only-of-type {\n",
       "        vertical-align: middle;\n",
       "    }\n",
       "\n",
       "    .dataframe tbody tr th {\n",
       "        vertical-align: top;\n",
       "    }\n",
       "\n",
       "    .dataframe thead th {\n",
       "        text-align: right;\n",
       "    }\n",
       "</style>\n",
       "<table border=\"1\" class=\"dataframe\">\n",
       "  <thead>\n",
       "    <tr style=\"text-align: right;\">\n",
       "      <th></th>\n",
       "      <th>sourceName</th>\n",
       "      <th>sourceVersion</th>\n",
       "      <th>device</th>\n",
       "      <th>type</th>\n",
       "      <th>unit</th>\n",
       "      <th>creationDate</th>\n",
       "      <th>startDate</th>\n",
       "      <th>endDate</th>\n",
       "      <th>value</th>\n",
       "      <th>time_asleep</th>\n",
       "    </tr>\n",
       "  </thead>\n",
       "  <tbody>\n",
       "    <tr>\n",
       "      <th>0</th>\n",
       "      <td>Uhr</td>\n",
       "      <td>50</td>\n",
       "      <td>&lt;&lt;HKDevice: 0x282413ac0&gt;, name:iPhone, manufac...</td>\n",
       "      <td>SleepAnalysis</td>\n",
       "      <td>NaN</td>\n",
       "      <td>2017-04-21 09:00:10+01:00</td>\n",
       "      <td>2017-04-21 01:29:52+01:00</td>\n",
       "      <td>2017-04-21 04:51:28+01:00</td>\n",
       "      <td>HKCategoryValueSleepAnalysisInBed</td>\n",
       "      <td>0 days 03:21:36</td>\n",
       "    </tr>\n",
       "    <tr>\n",
       "      <th>1</th>\n",
       "      <td>Uhr</td>\n",
       "      <td>50</td>\n",
       "      <td>&lt;&lt;HKDevice: 0x282413ac0&gt;, name:iPhone, manufac...</td>\n",
       "      <td>SleepAnalysis</td>\n",
       "      <td>NaN</td>\n",
       "      <td>2017-04-21 09:00:10+01:00</td>\n",
       "      <td>2017-04-21 04:51:32+01:00</td>\n",
       "      <td>2017-04-21 09:00:05+01:00</td>\n",
       "      <td>HKCategoryValueSleepAnalysisInBed</td>\n",
       "      <td>0 days 04:08:33</td>\n",
       "    </tr>\n",
       "    <tr>\n",
       "      <th>2</th>\n",
       "      <td>Uhr</td>\n",
       "      <td>50</td>\n",
       "      <td>&lt;&lt;HKDevice: 0x282413ac0&gt;, name:iPhone, manufac...</td>\n",
       "      <td>SleepAnalysis</td>\n",
       "      <td>NaN</td>\n",
       "      <td>2017-04-22 09:00:24+01:00</td>\n",
       "      <td>2017-04-22 02:33:28+01:00</td>\n",
       "      <td>2017-04-22 06:51:32+01:00</td>\n",
       "      <td>HKCategoryValueSleepAnalysisInBed</td>\n",
       "      <td>0 days 04:18:04</td>\n",
       "    </tr>\n",
       "    <tr>\n",
       "      <th>3</th>\n",
       "      <td>Uhr</td>\n",
       "      <td>50</td>\n",
       "      <td>&lt;&lt;HKDevice: 0x282413ac0&gt;, name:iPhone, manufac...</td>\n",
       "      <td>SleepAnalysis</td>\n",
       "      <td>NaN</td>\n",
       "      <td>2017-04-22 09:00:24+01:00</td>\n",
       "      <td>2017-04-22 06:52:44+01:00</td>\n",
       "      <td>2017-04-22 07:49:56+01:00</td>\n",
       "      <td>HKCategoryValueSleepAnalysisInBed</td>\n",
       "      <td>0 days 00:57:12</td>\n",
       "    </tr>\n",
       "    <tr>\n",
       "      <th>4</th>\n",
       "      <td>Uhr</td>\n",
       "      <td>50</td>\n",
       "      <td>&lt;&lt;HKDevice: 0x282413ac0&gt;, name:iPhone, manufac...</td>\n",
       "      <td>SleepAnalysis</td>\n",
       "      <td>NaN</td>\n",
       "      <td>2017-04-22 09:00:24+01:00</td>\n",
       "      <td>2017-04-22 07:50:56+01:00</td>\n",
       "      <td>2017-04-22 07:57:20+01:00</td>\n",
       "      <td>HKCategoryValueSleepAnalysisInBed</td>\n",
       "      <td>0 days 00:06:24</td>\n",
       "    </tr>\n",
       "  </tbody>\n",
       "</table>\n",
       "</div>"
      ],
      "text/plain": [
       "  sourceName sourceVersion                                             device  \\\n",
       "0        Uhr            50  <<HKDevice: 0x282413ac0>, name:iPhone, manufac...   \n",
       "1        Uhr            50  <<HKDevice: 0x282413ac0>, name:iPhone, manufac...   \n",
       "2        Uhr            50  <<HKDevice: 0x282413ac0>, name:iPhone, manufac...   \n",
       "3        Uhr            50  <<HKDevice: 0x282413ac0>, name:iPhone, manufac...   \n",
       "4        Uhr            50  <<HKDevice: 0x282413ac0>, name:iPhone, manufac...   \n",
       "\n",
       "            type  unit              creationDate                 startDate  \\\n",
       "0  SleepAnalysis   NaN 2017-04-21 09:00:10+01:00 2017-04-21 01:29:52+01:00   \n",
       "1  SleepAnalysis   NaN 2017-04-21 09:00:10+01:00 2017-04-21 04:51:32+01:00   \n",
       "2  SleepAnalysis   NaN 2017-04-22 09:00:24+01:00 2017-04-22 02:33:28+01:00   \n",
       "3  SleepAnalysis   NaN 2017-04-22 09:00:24+01:00 2017-04-22 06:52:44+01:00   \n",
       "4  SleepAnalysis   NaN 2017-04-22 09:00:24+01:00 2017-04-22 07:50:56+01:00   \n",
       "\n",
       "                    endDate                              value     time_asleep  \n",
       "0 2017-04-21 04:51:28+01:00  HKCategoryValueSleepAnalysisInBed 0 days 03:21:36  \n",
       "1 2017-04-21 09:00:05+01:00  HKCategoryValueSleepAnalysisInBed 0 days 04:08:33  \n",
       "2 2017-04-22 06:51:32+01:00  HKCategoryValueSleepAnalysisInBed 0 days 04:18:04  \n",
       "3 2017-04-22 07:49:56+01:00  HKCategoryValueSleepAnalysisInBed 0 days 00:57:12  \n",
       "4 2017-04-22 07:57:20+01:00  HKCategoryValueSleepAnalysisInBed 0 days 00:06:24  "
      ]
     },
     "execution_count": 31,
     "metadata": {},
     "output_type": "execute_result"
    }
   ],
   "source": [
    "sleep.head()"
   ]
  },
  {
   "cell_type": "code",
   "execution_count": 32,
   "metadata": {},
   "outputs": [],
   "source": [
    "#sleep['startDate'] = pd.to_datetime(sleep['startDate'])\n",
    "sleep['year'] = sleep['startDate'].map(get_year)\n",
    "sleep['month'] = sleep['startDate'].map(get_month)\n",
    "sleep['date'] = sleep['startDate'].map(get_date)\n",
    "sleep['day'] = sleep['startDate'].map(get_day)\n",
    "sleep['hour'] = sleep['startDate'].map(get_hour)\n",
    "sleep['dow'] = sleep['startDate'].map(get_day_of_week)"
   ]
  },
  {
   "cell_type": "code",
   "execution_count": 33,
   "metadata": {},
   "outputs": [
    {
     "data": {
      "text/html": [
       "<div>\n",
       "<style scoped>\n",
       "    .dataframe tbody tr th:only-of-type {\n",
       "        vertical-align: middle;\n",
       "    }\n",
       "\n",
       "    .dataframe tbody tr th {\n",
       "        vertical-align: top;\n",
       "    }\n",
       "\n",
       "    .dataframe thead th {\n",
       "        text-align: right;\n",
       "    }\n",
       "</style>\n",
       "<table border=\"1\" class=\"dataframe\">\n",
       "  <thead>\n",
       "    <tr style=\"text-align: right;\">\n",
       "      <th></th>\n",
       "      <th>sourceName</th>\n",
       "      <th>sourceVersion</th>\n",
       "      <th>device</th>\n",
       "      <th>type</th>\n",
       "      <th>unit</th>\n",
       "      <th>creationDate</th>\n",
       "      <th>startDate</th>\n",
       "      <th>endDate</th>\n",
       "      <th>value</th>\n",
       "      <th>time_asleep</th>\n",
       "      <th>year</th>\n",
       "      <th>month</th>\n",
       "      <th>date</th>\n",
       "      <th>day</th>\n",
       "      <th>hour</th>\n",
       "      <th>dow</th>\n",
       "    </tr>\n",
       "  </thead>\n",
       "  <tbody>\n",
       "    <tr>\n",
       "      <th>0</th>\n",
       "      <td>Uhr</td>\n",
       "      <td>50</td>\n",
       "      <td>&lt;&lt;HKDevice: 0x282413ac0&gt;, name:iPhone, manufac...</td>\n",
       "      <td>SleepAnalysis</td>\n",
       "      <td>NaN</td>\n",
       "      <td>2017-04-21 09:00:10+01:00</td>\n",
       "      <td>2017-04-21 01:29:52+01:00</td>\n",
       "      <td>2017-04-21 04:51:28+01:00</td>\n",
       "      <td>HKCategoryValueSleepAnalysisInBed</td>\n",
       "      <td>0 days 03:21:36</td>\n",
       "      <td>2017</td>\n",
       "      <td>2017-04</td>\n",
       "      <td>2017-04-21</td>\n",
       "      <td>21</td>\n",
       "      <td>3</td>\n",
       "      <td>4</td>\n",
       "    </tr>\n",
       "    <tr>\n",
       "      <th>1</th>\n",
       "      <td>Uhr</td>\n",
       "      <td>50</td>\n",
       "      <td>&lt;&lt;HKDevice: 0x282413ac0&gt;, name:iPhone, manufac...</td>\n",
       "      <td>SleepAnalysis</td>\n",
       "      <td>NaN</td>\n",
       "      <td>2017-04-21 09:00:10+01:00</td>\n",
       "      <td>2017-04-21 04:51:32+01:00</td>\n",
       "      <td>2017-04-21 09:00:05+01:00</td>\n",
       "      <td>HKCategoryValueSleepAnalysisInBed</td>\n",
       "      <td>0 days 04:08:33</td>\n",
       "      <td>2017</td>\n",
       "      <td>2017-04</td>\n",
       "      <td>2017-04-21</td>\n",
       "      <td>21</td>\n",
       "      <td>6</td>\n",
       "      <td>4</td>\n",
       "    </tr>\n",
       "    <tr>\n",
       "      <th>2</th>\n",
       "      <td>Uhr</td>\n",
       "      <td>50</td>\n",
       "      <td>&lt;&lt;HKDevice: 0x282413ac0&gt;, name:iPhone, manufac...</td>\n",
       "      <td>SleepAnalysis</td>\n",
       "      <td>NaN</td>\n",
       "      <td>2017-04-22 09:00:24+01:00</td>\n",
       "      <td>2017-04-22 02:33:28+01:00</td>\n",
       "      <td>2017-04-22 06:51:32+01:00</td>\n",
       "      <td>HKCategoryValueSleepAnalysisInBed</td>\n",
       "      <td>0 days 04:18:04</td>\n",
       "      <td>2017</td>\n",
       "      <td>2017-04</td>\n",
       "      <td>2017-04-22</td>\n",
       "      <td>22</td>\n",
       "      <td>4</td>\n",
       "      <td>5</td>\n",
       "    </tr>\n",
       "    <tr>\n",
       "      <th>3</th>\n",
       "      <td>Uhr</td>\n",
       "      <td>50</td>\n",
       "      <td>&lt;&lt;HKDevice: 0x282413ac0&gt;, name:iPhone, manufac...</td>\n",
       "      <td>SleepAnalysis</td>\n",
       "      <td>NaN</td>\n",
       "      <td>2017-04-22 09:00:24+01:00</td>\n",
       "      <td>2017-04-22 06:52:44+01:00</td>\n",
       "      <td>2017-04-22 07:49:56+01:00</td>\n",
       "      <td>HKCategoryValueSleepAnalysisInBed</td>\n",
       "      <td>0 days 00:57:12</td>\n",
       "      <td>2017</td>\n",
       "      <td>2017-04</td>\n",
       "      <td>2017-04-22</td>\n",
       "      <td>22</td>\n",
       "      <td>8</td>\n",
       "      <td>5</td>\n",
       "    </tr>\n",
       "    <tr>\n",
       "      <th>4</th>\n",
       "      <td>Uhr</td>\n",
       "      <td>50</td>\n",
       "      <td>&lt;&lt;HKDevice: 0x282413ac0&gt;, name:iPhone, manufac...</td>\n",
       "      <td>SleepAnalysis</td>\n",
       "      <td>NaN</td>\n",
       "      <td>2017-04-22 09:00:24+01:00</td>\n",
       "      <td>2017-04-22 07:50:56+01:00</td>\n",
       "      <td>2017-04-22 07:57:20+01:00</td>\n",
       "      <td>HKCategoryValueSleepAnalysisInBed</td>\n",
       "      <td>0 days 00:06:24</td>\n",
       "      <td>2017</td>\n",
       "      <td>2017-04</td>\n",
       "      <td>2017-04-22</td>\n",
       "      <td>22</td>\n",
       "      <td>9</td>\n",
       "      <td>5</td>\n",
       "    </tr>\n",
       "  </tbody>\n",
       "</table>\n",
       "</div>"
      ],
      "text/plain": [
       "  sourceName sourceVersion                                             device  \\\n",
       "0        Uhr            50  <<HKDevice: 0x282413ac0>, name:iPhone, manufac...   \n",
       "1        Uhr            50  <<HKDevice: 0x282413ac0>, name:iPhone, manufac...   \n",
       "2        Uhr            50  <<HKDevice: 0x282413ac0>, name:iPhone, manufac...   \n",
       "3        Uhr            50  <<HKDevice: 0x282413ac0>, name:iPhone, manufac...   \n",
       "4        Uhr            50  <<HKDevice: 0x282413ac0>, name:iPhone, manufac...   \n",
       "\n",
       "            type  unit              creationDate                 startDate  \\\n",
       "0  SleepAnalysis   NaN 2017-04-21 09:00:10+01:00 2017-04-21 01:29:52+01:00   \n",
       "1  SleepAnalysis   NaN 2017-04-21 09:00:10+01:00 2017-04-21 04:51:32+01:00   \n",
       "2  SleepAnalysis   NaN 2017-04-22 09:00:24+01:00 2017-04-22 02:33:28+01:00   \n",
       "3  SleepAnalysis   NaN 2017-04-22 09:00:24+01:00 2017-04-22 06:52:44+01:00   \n",
       "4  SleepAnalysis   NaN 2017-04-22 09:00:24+01:00 2017-04-22 07:50:56+01:00   \n",
       "\n",
       "                    endDate                              value  \\\n",
       "0 2017-04-21 04:51:28+01:00  HKCategoryValueSleepAnalysisInBed   \n",
       "1 2017-04-21 09:00:05+01:00  HKCategoryValueSleepAnalysisInBed   \n",
       "2 2017-04-22 06:51:32+01:00  HKCategoryValueSleepAnalysisInBed   \n",
       "3 2017-04-22 07:49:56+01:00  HKCategoryValueSleepAnalysisInBed   \n",
       "4 2017-04-22 07:57:20+01:00  HKCategoryValueSleepAnalysisInBed   \n",
       "\n",
       "      time_asleep  year    month        date  day  hour  dow  \n",
       "0 0 days 03:21:36  2017  2017-04  2017-04-21   21     3    4  \n",
       "1 0 days 04:08:33  2017  2017-04  2017-04-21   21     6    4  \n",
       "2 0 days 04:18:04  2017  2017-04  2017-04-22   22     4    5  \n",
       "3 0 days 00:57:12  2017  2017-04  2017-04-22   22     8    5  \n",
       "4 0 days 00:06:24  2017  2017-04  2017-04-22   22     9    5  "
      ]
     },
     "execution_count": 33,
     "metadata": {},
     "output_type": "execute_result"
    }
   ],
   "source": [
    "sleep.head()"
   ]
  },
  {
   "cell_type": "code",
   "execution_count": 30,
   "metadata": {},
   "outputs": [],
   "source": [
    "sleep['time_asleep'] = sleep['endDate'] - sleep['startDate']\n",
    "\n"
   ]
  },
  {
   "cell_type": "code",
   "execution_count": 39,
   "metadata": {},
   "outputs": [
    {
     "data": {
      "text/html": [
       "<div>\n",
       "<style scoped>\n",
       "    .dataframe tbody tr th:only-of-type {\n",
       "        vertical-align: middle;\n",
       "    }\n",
       "\n",
       "    .dataframe tbody tr th {\n",
       "        vertical-align: top;\n",
       "    }\n",
       "\n",
       "    .dataframe thead th {\n",
       "        text-align: right;\n",
       "    }\n",
       "</style>\n",
       "<table border=\"1\" class=\"dataframe\">\n",
       "  <thead>\n",
       "    <tr style=\"text-align: right;\">\n",
       "      <th></th>\n",
       "      <th>sourceName</th>\n",
       "      <th>sourceVersion</th>\n",
       "      <th>device</th>\n",
       "      <th>type</th>\n",
       "      <th>unit</th>\n",
       "      <th>creationDate</th>\n",
       "      <th>startDate</th>\n",
       "      <th>endDate</th>\n",
       "      <th>value</th>\n",
       "      <th>time_asleep</th>\n",
       "      <th>year</th>\n",
       "      <th>month</th>\n",
       "      <th>date</th>\n",
       "      <th>day</th>\n",
       "      <th>hour</th>\n",
       "      <th>dow</th>\n",
       "    </tr>\n",
       "  </thead>\n",
       "  <tbody>\n",
       "    <tr>\n",
       "      <th>0</th>\n",
       "      <td>Uhr</td>\n",
       "      <td>50</td>\n",
       "      <td>&lt;&lt;HKDevice: 0x282413ac0&gt;, name:iPhone, manufac...</td>\n",
       "      <td>SleepAnalysis</td>\n",
       "      <td>NaN</td>\n",
       "      <td>2017-04-21 09:00:10+01:00</td>\n",
       "      <td>2017-04-21 01:29:52+01:00</td>\n",
       "      <td>2017-04-21 04:51:28+01:00</td>\n",
       "      <td>HKCategoryValueSleepAnalysisInBed</td>\n",
       "      <td>0 days 03:21:36</td>\n",
       "      <td>2017</td>\n",
       "      <td>2017-04</td>\n",
       "      <td>2017-04-21</td>\n",
       "      <td>21</td>\n",
       "      <td>3</td>\n",
       "      <td>4</td>\n",
       "    </tr>\n",
       "    <tr>\n",
       "      <th>1</th>\n",
       "      <td>Uhr</td>\n",
       "      <td>50</td>\n",
       "      <td>&lt;&lt;HKDevice: 0x282413ac0&gt;, name:iPhone, manufac...</td>\n",
       "      <td>SleepAnalysis</td>\n",
       "      <td>NaN</td>\n",
       "      <td>2017-04-21 09:00:10+01:00</td>\n",
       "      <td>2017-04-21 04:51:32+01:00</td>\n",
       "      <td>2017-04-21 09:00:05+01:00</td>\n",
       "      <td>HKCategoryValueSleepAnalysisInBed</td>\n",
       "      <td>0 days 04:08:33</td>\n",
       "      <td>2017</td>\n",
       "      <td>2017-04</td>\n",
       "      <td>2017-04-21</td>\n",
       "      <td>21</td>\n",
       "      <td>6</td>\n",
       "      <td>4</td>\n",
       "    </tr>\n",
       "    <tr>\n",
       "      <th>2</th>\n",
       "      <td>Uhr</td>\n",
       "      <td>50</td>\n",
       "      <td>&lt;&lt;HKDevice: 0x282413ac0&gt;, name:iPhone, manufac...</td>\n",
       "      <td>SleepAnalysis</td>\n",
       "      <td>NaN</td>\n",
       "      <td>2017-04-22 09:00:24+01:00</td>\n",
       "      <td>2017-04-22 02:33:28+01:00</td>\n",
       "      <td>2017-04-22 06:51:32+01:00</td>\n",
       "      <td>HKCategoryValueSleepAnalysisInBed</td>\n",
       "      <td>0 days 04:18:04</td>\n",
       "      <td>2017</td>\n",
       "      <td>2017-04</td>\n",
       "      <td>2017-04-22</td>\n",
       "      <td>22</td>\n",
       "      <td>4</td>\n",
       "      <td>5</td>\n",
       "    </tr>\n",
       "    <tr>\n",
       "      <th>3</th>\n",
       "      <td>Uhr</td>\n",
       "      <td>50</td>\n",
       "      <td>&lt;&lt;HKDevice: 0x282413ac0&gt;, name:iPhone, manufac...</td>\n",
       "      <td>SleepAnalysis</td>\n",
       "      <td>NaN</td>\n",
       "      <td>2017-04-22 09:00:24+01:00</td>\n",
       "      <td>2017-04-22 06:52:44+01:00</td>\n",
       "      <td>2017-04-22 07:49:56+01:00</td>\n",
       "      <td>HKCategoryValueSleepAnalysisInBed</td>\n",
       "      <td>0 days 00:57:12</td>\n",
       "      <td>2017</td>\n",
       "      <td>2017-04</td>\n",
       "      <td>2017-04-22</td>\n",
       "      <td>22</td>\n",
       "      <td>8</td>\n",
       "      <td>5</td>\n",
       "    </tr>\n",
       "    <tr>\n",
       "      <th>4</th>\n",
       "      <td>Uhr</td>\n",
       "      <td>50</td>\n",
       "      <td>&lt;&lt;HKDevice: 0x282413ac0&gt;, name:iPhone, manufac...</td>\n",
       "      <td>SleepAnalysis</td>\n",
       "      <td>NaN</td>\n",
       "      <td>2017-04-22 09:00:24+01:00</td>\n",
       "      <td>2017-04-22 07:50:56+01:00</td>\n",
       "      <td>2017-04-22 07:57:20+01:00</td>\n",
       "      <td>HKCategoryValueSleepAnalysisInBed</td>\n",
       "      <td>0 days 00:06:24</td>\n",
       "      <td>2017</td>\n",
       "      <td>2017-04</td>\n",
       "      <td>2017-04-22</td>\n",
       "      <td>22</td>\n",
       "      <td>9</td>\n",
       "      <td>5</td>\n",
       "    </tr>\n",
       "  </tbody>\n",
       "</table>\n",
       "</div>"
      ],
      "text/plain": [
       "  sourceName sourceVersion                                             device  \\\n",
       "0        Uhr            50  <<HKDevice: 0x282413ac0>, name:iPhone, manufac...   \n",
       "1        Uhr            50  <<HKDevice: 0x282413ac0>, name:iPhone, manufac...   \n",
       "2        Uhr            50  <<HKDevice: 0x282413ac0>, name:iPhone, manufac...   \n",
       "3        Uhr            50  <<HKDevice: 0x282413ac0>, name:iPhone, manufac...   \n",
       "4        Uhr            50  <<HKDevice: 0x282413ac0>, name:iPhone, manufac...   \n",
       "\n",
       "            type  unit              creationDate                 startDate  \\\n",
       "0  SleepAnalysis   NaN 2017-04-21 09:00:10+01:00 2017-04-21 01:29:52+01:00   \n",
       "1  SleepAnalysis   NaN 2017-04-21 09:00:10+01:00 2017-04-21 04:51:32+01:00   \n",
       "2  SleepAnalysis   NaN 2017-04-22 09:00:24+01:00 2017-04-22 02:33:28+01:00   \n",
       "3  SleepAnalysis   NaN 2017-04-22 09:00:24+01:00 2017-04-22 06:52:44+01:00   \n",
       "4  SleepAnalysis   NaN 2017-04-22 09:00:24+01:00 2017-04-22 07:50:56+01:00   \n",
       "\n",
       "                    endDate                              value  \\\n",
       "0 2017-04-21 04:51:28+01:00  HKCategoryValueSleepAnalysisInBed   \n",
       "1 2017-04-21 09:00:05+01:00  HKCategoryValueSleepAnalysisInBed   \n",
       "2 2017-04-22 06:51:32+01:00  HKCategoryValueSleepAnalysisInBed   \n",
       "3 2017-04-22 07:49:56+01:00  HKCategoryValueSleepAnalysisInBed   \n",
       "4 2017-04-22 07:57:20+01:00  HKCategoryValueSleepAnalysisInBed   \n",
       "\n",
       "      time_asleep  year    month        date  day  hour  dow  \n",
       "0 0 days 03:21:36  2017  2017-04  2017-04-21   21     3    4  \n",
       "1 0 days 04:08:33  2017  2017-04  2017-04-21   21     6    4  \n",
       "2 0 days 04:18:04  2017  2017-04  2017-04-22   22     4    5  \n",
       "3 0 days 00:57:12  2017  2017-04  2017-04-22   22     8    5  \n",
       "4 0 days 00:06:24  2017  2017-04  2017-04-22   22     9    5  "
      ]
     },
     "execution_count": 39,
     "metadata": {},
     "output_type": "execute_result"
    }
   ],
   "source": [
    "sleep.head()"
   ]
  },
  {
   "cell_type": "code",
   "execution_count": 35,
   "metadata": {},
   "outputs": [],
   "source": [
    "sleep_time_by_date = sleep.groupby([\"date\"])[\"time_asleep\"].sum().reset_index(name=\"Sleep\")"
   ]
  },
  {
   "cell_type": "code",
   "execution_count": 38,
   "metadata": {},
   "outputs": [
    {
     "data": {
      "text/html": [
       "<div>\n",
       "<style scoped>\n",
       "    .dataframe tbody tr th:only-of-type {\n",
       "        vertical-align: middle;\n",
       "    }\n",
       "\n",
       "    .dataframe tbody tr th {\n",
       "        vertical-align: top;\n",
       "    }\n",
       "\n",
       "    .dataframe thead th {\n",
       "        text-align: right;\n",
       "    }\n",
       "</style>\n",
       "<table border=\"1\" class=\"dataframe\">\n",
       "  <thead>\n",
       "    <tr style=\"text-align: right;\">\n",
       "      <th></th>\n",
       "      <th>date</th>\n",
       "      <th>Sleep</th>\n",
       "    </tr>\n",
       "  </thead>\n",
       "  <tbody>\n",
       "    <tr>\n",
       "      <th>0</th>\n",
       "      <td>2017-04-21</td>\n",
       "      <td>0 days 07:30:09</td>\n",
       "    </tr>\n",
       "    <tr>\n",
       "      <th>1</th>\n",
       "      <td>2017-04-22</td>\n",
       "      <td>0 days 06:24:14</td>\n",
       "    </tr>\n",
       "    <tr>\n",
       "      <th>2</th>\n",
       "      <td>2017-04-23</td>\n",
       "      <td>0 days 08:00:02</td>\n",
       "    </tr>\n",
       "    <tr>\n",
       "      <th>3</th>\n",
       "      <td>2017-04-24</td>\n",
       "      <td>0 days 07:20:45</td>\n",
       "    </tr>\n",
       "    <tr>\n",
       "      <th>4</th>\n",
       "      <td>2017-04-25</td>\n",
       "      <td>0 days 09:00:23</td>\n",
       "    </tr>\n",
       "    <tr>\n",
       "      <th>5</th>\n",
       "      <td>2017-04-26</td>\n",
       "      <td>0 days 08:48:05</td>\n",
       "    </tr>\n",
       "    <tr>\n",
       "      <th>6</th>\n",
       "      <td>2017-04-29</td>\n",
       "      <td>0 days 07:29:19</td>\n",
       "    </tr>\n",
       "    <tr>\n",
       "      <th>7</th>\n",
       "      <td>2017-04-30</td>\n",
       "      <td>0 days 08:14:33</td>\n",
       "    </tr>\n",
       "    <tr>\n",
       "      <th>8</th>\n",
       "      <td>2017-05-01</td>\n",
       "      <td>0 days 07:50:24</td>\n",
       "    </tr>\n",
       "    <tr>\n",
       "      <th>9</th>\n",
       "      <td>2017-05-02</td>\n",
       "      <td>0 days 08:12:56</td>\n",
       "    </tr>\n",
       "  </tbody>\n",
       "</table>\n",
       "</div>"
      ],
      "text/plain": [
       "         date           Sleep\n",
       "0  2017-04-21 0 days 07:30:09\n",
       "1  2017-04-22 0 days 06:24:14\n",
       "2  2017-04-23 0 days 08:00:02\n",
       "3  2017-04-24 0 days 07:20:45\n",
       "4  2017-04-25 0 days 09:00:23\n",
       "5  2017-04-26 0 days 08:48:05\n",
       "6  2017-04-29 0 days 07:29:19\n",
       "7  2017-04-30 0 days 08:14:33\n",
       "8  2017-05-01 0 days 07:50:24\n",
       "9  2017-05-02 0 days 08:12:56"
      ]
     },
     "execution_count": 38,
     "metadata": {},
     "output_type": "execute_result"
    }
   ],
   "source": [
    "sleep_time_by_date.head(10)"
   ]
  },
  {
   "cell_type": "code",
   "execution_count": null,
   "metadata": {},
   "outputs": [],
   "source": []
  }
 ],
 "metadata": {
  "kernelspec": {
   "display_name": "Python 3 (ipykernel)",
   "language": "python",
   "name": "python3"
  },
  "language_info": {
   "codemirror_mode": {
    "name": "ipython",
    "version": 3
   },
   "file_extension": ".py",
   "mimetype": "text/x-python",
   "name": "python",
   "nbconvert_exporter": "python",
   "pygments_lexer": "ipython3",
   "version": "3.8.10"
  }
 },
 "nbformat": 4,
 "nbformat_minor": 2
}
